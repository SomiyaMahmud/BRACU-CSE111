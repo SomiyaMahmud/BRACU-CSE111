{
 "cells": [
  {
   "cell_type": "code",
   "execution_count": null,
   "metadata": {
    "colab": {
     "base_uri": "https://localhost:8080/"
    },
    "id": "nsQFk5F6n8fw",
    "outputId": "0f9981c9-ef71-45d9-c487-e48d74847fa9"
   },
   "outputs": [],
   "source": [
    "#1\n",
    "class Marks:\n",
    "  def __init__(self,mark):\n",
    "    self.mark=mark\n",
    "  def __add__(self,other):\n",
    "    sum=self.mark+other.mark\n",
    "    return Marks(sum)\n",
    "            \n",
    "Q1 = Marks(int(input(\"Quiz 1 (out of 10): \")))\n",
    "Q2 = Marks(int(input(\"Quiz 2 (out of 10): \")))\n",
    "Lab = Marks(int(input(\"Lab (out of 30): \")))\n",
    "Mid = Marks(int(input(\"Mid (out of 20): \")))\n",
    "Final = Marks(int(input(\"Final (out of 30): \")))\n",
    "total = Q1 + Q2 + Lab + Mid + Final\n",
    "print(\"Total marks: {}\".format(total.mark))"
   ]
  },
  {
   "cell_type": "code",
   "execution_count": null,
   "metadata": {
    "colab": {
     "base_uri": "https://localhost:8080/"
    },
    "id": "3hmSDu07vyl0",
    "outputId": "66216170-0bfa-46af-db7e-7c1985758e4e"
   },
   "outputs": [
    {
     "name": "stdout",
     "output_type": "stream",
     "text": [
      "====================================\n",
      "Name:Saad Abdullah\n",
      "Departmenmt:CSE\n",
      "List of courses\n",
      "====================================\n",
      "CSE 110 Programming Language I\n",
      "CSE 111 Programming Language-II\n",
      "====================================\n",
      "====================================\n",
      "Name:Mumit Khan\n",
      "Departmenmt:CSE\n",
      "List of courses\n",
      "====================================\n",
      "CSE 220 Data Structures\n",
      "CSE 221 Algorithms\n",
      "CCSE 230 Discrete Mathematics\n",
      "====================================\n",
      "====================================\n",
      "Name:Sadia Kazi\n",
      "Departmenmt:CSE\n",
      "List of courses\n",
      "====================================\n",
      "CSE 310 Object OrientedProgramming\n",
      "CSE 320 Data Communications\n",
      "CSE 340 Computer Architecture\n",
      "====================================\n"
     ]
    }
   ],
   "source": [
    "#2\n",
    "class Teacher:\n",
    "    def __init__(self,name,dept):\n",
    "        self.__name=name\n",
    "        self.__dept=dept\n",
    "        self.__course_list=[]\n",
    "\n",
    "    def addCourse(self,course):\n",
    "        self.__course_list.append(course.course_name)\n",
    "\n",
    "\n",
    "    def printDetail(self):\n",
    "        print('====================================')\n",
    "        print(f'Name:{self.__name}')\n",
    "        print(f'Departmenmt:{self.__dept}')\n",
    "        print('List of courses')\n",
    "        print('====================================')\n",
    "\n",
    "        for elem in self.__course_list:\n",
    "            print(elem)\n",
    "\n",
    "        print('====================================')\n",
    "class Course:\n",
    "    def __init__(self,course_name):\n",
    "        self.course_name=course_name\n",
    "\n",
    "\n",
    "\n",
    "t1 = Teacher(\"Saad Abdullah\", \"CSE\")\n",
    "t2 = Teacher(\"Mumit Khan\", \"CSE\")\n",
    "t3 = Teacher(\"Sadia Kazi\", \"CSE\")\n",
    "c1 = Course(\"CSE 110 Programming Language I\")\n",
    "c2 = Course(\"CSE 111 Programming Language-II\")\n",
    "c3 = Course(\"CSE 220 Data Structures\")\n",
    "c4 = Course(\"CSE 221 Algorithms\")\n",
    "c5 = Course(\"CCSE 230 Discrete Mathematics\")\n",
    "c6 = Course(\"CSE 310 Object OrientedProgramming\")\n",
    "c7 = Course(\"CSE 320 Data Communications\")\n",
    "c8 = Course(\"CSE 340 Computer Architecture\")\n",
    "t1.addCourse(c1)\n",
    "t1.addCourse(c2)\n",
    "t2.addCourse(c3)\n",
    "t2.addCourse(c4)\n",
    "t2.addCourse(c5)\n",
    "t3.addCourse(c6)\n",
    "t3.addCourse(c7)\n",
    "t3.addCourse(c8)\n",
    "t1.printDetail()\n",
    "t2.printDetail()\n",
    "t3.printDetail()"
   ]
  },
  {
   "cell_type": "code",
   "execution_count": null,
   "metadata": {
    "colab": {
     "base_uri": "https://localhost:8080/"
    },
    "id": "_gDiBxhHeI5S",
    "outputId": "2c3fbcfa-cec8-43b4-8757-77288c98f203"
   },
   "outputs": [
    {
     "name": "stdout",
     "output_type": "stream",
     "text": [
      "=====================\n",
      "Team: Bangladesh\n",
      "List of players:\n",
      "['Mashrafi', 'Tamim']\n",
      "=====================\n",
      "=====================\n",
      "Team: Australia\n",
      "List of players:\n",
      "['Ponting', 'Lee']\n",
      "=====================\n"
     ]
    }
   ],
   "source": [
    "#3\n",
    "class Team:\n",
    "  def __init__(self,team_name=None):\n",
    "    self.__team_name=team_name\n",
    "    self.__player_list=[]\n",
    "    \n",
    "\n",
    "  def setName(self,team_name):\n",
    "    self.__team_name=team_name\n",
    "\n",
    "  def addPlayer(self,name):\n",
    "    self.__player_list.append(name.player_name)\n",
    "  \n",
    "  def printDetail(self):\n",
    "    print('=====================')\n",
    "    print(f'Team: {self.__team_name}')\n",
    "    print('List of players:')\n",
    "    print(self.__player_list)\n",
    "    print(\"=====================\")\n",
    "    \n",
    "class Player:\n",
    "  def __init__(self,player_name):\n",
    "    self.player_name=player_name\n",
    "    \n",
    "  \n",
    "\n",
    "\n",
    "b = Team()\n",
    "b.setName('Bangladesh')\n",
    "mashrafi = Player(\"Mashrafi\")\n",
    "b.addPlayer(mashrafi)\n",
    "tamim = Player(\"Tamim\")\n",
    "b.addPlayer(tamim)\n",
    "b.printDetail()\n",
    "a = Team(\"Australia\")\n",
    "ponting = Player(\"Ponting\")\n",
    "a.addPlayer(ponting)\n",
    "lee = Player(\"Lee\")\n",
    "a.addPlayer(lee)\n",
    "a.printDetail()"
   ]
  },
  {
   "cell_type": "code",
   "execution_count": null,
   "metadata": {
    "colab": {
     "base_uri": "https://localhost:8080/"
    },
    "id": "OYfWSFAKprHQ",
    "outputId": "ad5f72fe-e8d3-4273-98e0-341ec845ffa4"
   },
   "outputs": [
    {
     "name": "stdout",
     "output_type": "stream",
     "text": [
      "First Color: yellow\n",
      "Second Color: Blue\n",
      "Color formed: Green\n"
     ]
    }
   ],
   "source": [
    "#4\n",
    "class Color:\n",
    "  def __init__(self,clr):\n",
    "    self.clr=clr\n",
    "  def __add__(self,other):\n",
    "    if (self.clr=='red' and other.clr=='yellow') or (self.clr=='yellow' and other.clr=='red'):\n",
    "      color='Orange'\n",
    "    elif (self.clr=='red' and other.clr=='blue') or (self.clr=='blue' and other.clr=='red'):\n",
    "      color='Violet'\n",
    "    elif (self.clr=='blue' and other.clr=='yellow') or (self.clr=='yellow' and other.clr=='blue'):\n",
    "      color='Green'\n",
    "    return Color(color)\n",
    "C1 = Color(input(\"First Color: \").lower())\n",
    "C2 = Color(input(\"Second Color: \").lower())\n",
    "C3 = C1 + C2\n",
    "print(\"Color formed:\", C3.clr)"
   ]
  },
  {
   "cell_type": "code",
   "execution_count": null,
   "metadata": {
    "colab": {
     "base_uri": "https://localhost:8080/"
    },
    "id": "NF4g6vq6tPh6",
    "outputId": "366f7a66-fd5b-4318-9142-8b3a8985518a"
   },
   "outputs": [
    {
     "name": "stdout",
     "output_type": "stream",
     "text": [
      "First circle radius: 4\n",
      "First circle area: 50.26548245743669\n",
      "Second circle radius: 5\n",
      "Second circle area: 78.53981633974483\n",
      "Third circle radius: 9\n",
      "Third circle area: 254.46900494077323\n"
     ]
    }
   ],
   "source": [
    "#5\n",
    "import math\n",
    "class Circle:\n",
    "    def __init__(self, radius):\n",
    "        self.__radius = radius\n",
    "    def getRadius(self):\n",
    "      return self.__radius\n",
    "    def setRadius(self,radius):\n",
    "        self.__radius = radius\n",
    "    def area(self):\n",
    "        return math.pi * self.__radius ** 2\n",
    "    def __add__(self, other):\n",
    "        return Circle(self.__radius + other.__radius)\n",
    "c1 = Circle(4)\n",
    "print(\"First circle radius:\" , c1.getRadius())\n",
    "print(\"First circle area:\" ,c1.area())\n",
    "c2 = Circle(5)\n",
    "print(\"Second circle radius:\" ,c2.getRadius())\n",
    "print(\"Second circle area:\" ,c2.area())\n",
    "c3 = c1 + c2 \n",
    "print(\"Third circle radius:\" ,c3.getRadius())\n",
    "print(\"Third circle area:\" ,c3.area())\n"
   ]
  },
  {
   "cell_type": "code",
   "execution_count": null,
   "metadata": {
    "colab": {
     "base_uri": "https://localhost:8080/"
    },
    "id": "9e3eMt8z8Jdx",
    "outputId": "85716393-8c59-41d3-fb92-2bc2cceee85a"
   },
   "outputs": [
    {
     "name": "stdout",
     "output_type": "stream",
     "text": [
      "First Triangle Base: 10\n",
      "First Triangle Height: 5\n",
      "First Triangle area: 25.0\n",
      "Second Triangle Base: 5\n",
      "Second Triangle Height: 3\n",
      "Second Triangle area: 7.5\n",
      "Third Triangle Base: 5\n",
      "Third Triangle Height: 2\n",
      "Third Triangle area: 5.0\n"
     ]
    }
   ],
   "source": [
    "#6\n",
    "class Triangle:\n",
    "  def __init__(self, base, height):\n",
    "    self.__base = base         \n",
    "    self.__height = height\n",
    "  def getBase(self):         \n",
    "    return self.__base\n",
    "  def getHeight(self):         \n",
    "    return self.__height\n",
    "  def setBase(self, base):         \n",
    "    self.__base = base\n",
    "  def setHeight(self, height):         \n",
    "    self.__height = height\n",
    "  def area(self):         \n",
    "    return (self.__base*self.__height)/2\n",
    "  def __sub__(self, other):         \n",
    "    return Triangle(self.__base - other.__base, self.__height - other.__height)         \n",
    "t1 = Triangle(10, 5)\n",
    "print(\"First Triangle Base:\" , t1.getBase())\n",
    "print(\"First Triangle Height:\" , t1.getHeight())\n",
    "print(\"First Triangle area:\" ,t1.area())\n",
    "t2 = Triangle(5, 3)\n",
    "print(\"Second Triangle Base:\" , t2.getBase())\n",
    "print(\"Second Triangle Height:\" , t2.getHeight())\n",
    "print(\"Second Triangle area:\" ,t2.area())\n",
    "t3 = t1 - t2 \n",
    "print(\"Third Triangle Base:\" , t3.getBase())\n",
    "print(\"Third Triangle Height:\" , t3.getHeight())\n",
    "print(\"Third Triangle area:\" ,t3.area()) "
   ]
  },
  {
   "cell_type": "code",
   "execution_count": null,
   "metadata": {
    "colab": {
     "base_uri": "https://localhost:8080/",
     "height": 703
    },
    "id": "G082Q3hsA6-z",
    "outputId": "00435bb5-4d43-41a2-b05d-4b15a6f1960a"
   },
   "outputs": [],
   "source": [
    "#7\n",
    "class Dolls:\n",
    "  def __init__(self,name,price):\n",
    "    self.name=name\n",
    "    self.price=price\n",
    "    \n",
    "  def __add__(self,other):\n",
    "    updated_name=self.name+' '+other.name\n",
    "    updated_price=self.price+other.price\n",
    "    return Dolls(updated_name, updated_price)\n",
    "\n",
    "  def __gt__(self,other):\n",
    "    if self.price > other.price:\n",
    "      return True\n",
    "    else:\n",
    "      return False\n",
    "  \n",
    "  def detail(self):\n",
    "    output=f'Doll: {self.name}\\n'\n",
    "    output+=f'Total Price: {self.price} taka\\n'\n",
    "    return output\n",
    "obj_1 = Dolls(\"Tweety\", 2500)\n",
    "print(obj_1.detail())\n",
    "if obj_1 > obj_1:\n",
    " print(\"Congratulations! You get the Tweety as a gift!\")\n",
    "else:\n",
    " print(\"Thank you!\")\n",
    "print(\"=========================\")\n",
    "obj_2 = Dolls(\"Daffy Duck\", 1800) \n",
    "print(obj_2.detail())\n",
    "if obj_2 > obj_1:\n",
    " print(\"Congratulations! You get the Tweety as a gift!\")\n",
    "else:\n",
    " print(\"Thank you!\")\n",
    "print(\"=========================\")\n",
    "obj_3 = Dolls(\"Bugs Bunny\", 3000)\n",
    "print(obj_3.detail())\n",
    "if obj_3 > obj_1:\n",
    " print(\"Congratulations! You get the Tweety as a gift!\")\n",
    "else:\n",
    " print(\"Thank you!\")\n",
    "print(\"=========================\")\n",
    "obj_4 = Dolls(\"Porky Pig\", 1500)\n",
    "print(obj_4.detail())\n",
    "if obj_4 > obj_1:\n",
    " print(\"Congratulations! You get the Tweety as a gift!\")\n",
    "else:\n",
    " print(\"Thank you!\")\n",
    "print(\"=========================\")\n",
    "obj_5 = obj_2 + obj_3\n",
    "print(obj_5.detail())\n",
    "if obj_5 > obj_1:\n",
    " print(\"Congratulations! You get the Tweety as a gift!\")\n",
    "else:\n",
    " print(\"Thank you!\")"
   ]
  },
  {
   "cell_type": "code",
   "execution_count": null,
   "metadata": {
    "colab": {
     "base_uri": "https://localhost:8080/"
    },
    "id": "UgTBbkyWGRvg",
    "outputId": "41ae1ba2-7b0a-4e2e-8d6b-8a7c37c22a37"
   },
   "outputs": [
    {
     "name": "stdout",
     "output_type": "stream",
     "text": [
      "0\n",
      "0\n",
      "0\n",
      "0\n",
      "(0, 0)\n",
      "(0, 0)\n",
      "The calculated coordinates are the same.\n"
     ]
    }
   ],
   "source": [
    "#8\n",
    "class Coordinates:    \n",
    "   def __init__(self, a, b):        \n",
    "      self.a = a         \n",
    "      self.b = b\n",
    "   def __sub__(self, other):        \n",
    "      return Coordinates(self.a - other.a, self.b - other.b)\n",
    "   def __mul__(self, other):         \n",
    "      return Coordinates(self.a * other.a, self.b * other.b)\n",
    "   def __eq__(self, other):        \n",
    "     if self.a != other.a or self.b != other.b:             \n",
    "        output= 'The calculated coordinates are NOT the same.'\n",
    "     else:\n",
    "       output= 'The calculated coordinates are the same.'\n",
    "     return output\n",
    "   def detail(self):         \n",
    "     return (self.a, self.b)\n",
    "p1 = Coordinates(int(input()),int(input()))\n",
    "p2 = Coordinates(int(input()),int(input()))\n",
    "p4 = p1 - p2\n",
    "print(p4.detail())\n",
    "p5 = p1 * p2\n",
    "print(p5.detail())\n",
    "point_check = (p4 == p5)\n",
    "print(point_check)\n"
   ]
  }
 ],
 "metadata": {
  "colab": {
   "collapsed_sections": [],
   "provenance": []
  },
  "kernelspec": {
   "display_name": "Python 3 (ipykernel)",
   "language": "python",
   "name": "python3"
  },
  "language_info": {
   "codemirror_mode": {
    "name": "ipython",
    "version": 3
   },
   "file_extension": ".py",
   "mimetype": "text/x-python",
   "name": "python",
   "nbconvert_exporter": "python",
   "pygments_lexer": "ipython3",
   "version": "3.9.7"
  }
 },
 "nbformat": 4,
 "nbformat_minor": 1
}
