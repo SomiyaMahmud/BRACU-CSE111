{
 "cells": [
  {
   "cell_type": "code",
   "execution_count": null,
   "metadata": {
    "colab": {
     "base_uri": "https://localhost:8080/"
    },
    "id": "bszM5eH_91fP",
    "outputId": "20c6233f-a00b-4910-a8d8-cf60a4fa6d7f"
   },
   "outputs": [
    {
     "name": "stdout",
     "output_type": "stream",
     "text": [
      "ID: 1\n",
      "Name: Samin\n",
      "Department: CSE\n",
      "Age: 21\n",
      "CGPA: 3.91\n",
      "-----------------------\n",
      "ID: 2\n",
      "Name: Fahim\n",
      "Department: ECE\n",
      "Age: 21\n",
      "CGPA: 3.85\n",
      "-----------------------\n",
      "ID: 3\n",
      "Name: Tahura\n",
      "Department: EEE\n",
      "Age: 22\n",
      "CGPA: 3.01\n",
      "-----------------------\n",
      "ID: 4\n",
      "Name: Sumaiya\n",
      "Department: BBA\n",
      "Age: 23\n",
      "CGPA: 3.96\n"
     ]
    }
   ],
   "source": [
    "#1\n",
    "class Student:\n",
    "  ID=0\n",
    "  def __init__(self,name,dept,age,cgpa):\n",
    "    self.name=name\n",
    "    self.dept=dept\n",
    "    self.age=age\n",
    "    self.cgpa=cgpa\n",
    "    Student.ID+=1\n",
    "  def get_details(self):\n",
    "    print(f'ID: {Student.ID}\\nName: {self.name}\\nDepartment: {self.dept}\\nAge: {self.age}\\nCGPA: {self.cgpa}')\n",
    "\n",
    "  @classmethod\n",
    "  def from_String(cls,info):\n",
    "    name,dept,age,cgpa=info.split('-')\n",
    "    obj=cls(name,dept,age,cgpa)\n",
    "    return obj\n",
    "\n",
    "\n",
    "\n",
    "s1 = Student(\"Samin\", \"CSE\", 21, 3.91)\n",
    "s1.get_details()\n",
    "print(\"-----------------------\")\n",
    "s2 = Student(\"Fahim\", \"ECE\", 21, 3.85)\n",
    "s2.get_details()\n",
    "print(\"-----------------------\")\n",
    "s3 = Student(\"Tahura\", \"EEE\", 22, 3.01)\n",
    "s3.get_details() \n",
    "print(\"-----------------------\")\n",
    "s4 = Student.from_String(\"Sumaiya-BBA-23-3.96\")\n",
    "s4.get_details()"
   ]
  },
  {
   "cell_type": "code",
   "execution_count": null,
   "metadata": {
    "colab": {
     "base_uri": "https://localhost:8080/"
    },
    "id": "30t1sfGPHsbb",
    "outputId": "199dbe1f-ddb8-454b-e514-d35cb37145d4"
   },
   "outputs": [
    {
     "name": "stdout",
     "output_type": "stream",
     "text": [
      "Name: John Wick \n",
      "Success rate: 100%\n",
      "Total number of Assassin: 1\n",
      "================================\n",
      "Name: Nagisa \n",
      "Success rate: 80%\n",
      "Total number of Assassin: 2\n",
      "================================\n",
      "Name: Akabane \n",
      "Success rate: 90%\n",
      "Total number of Assassin: 3\n"
     ]
    }
   ],
   "source": [
    "#2\n",
    "class Assassin:\n",
    "  assassin_no=0\n",
    "  def __init__(self,name,success_rate):\n",
    "    self.name=name\n",
    "    self.success_rate=success_rate\n",
    "    Assassin.assassin_no+=1\n",
    "  def printDetails(self):\n",
    "    print(f'Name: {self.name} \\nSuccess rate: {self.success_rate}%\\nTotal number of Assassin: {Assassin.assassin_no}')\n",
    "  \n",
    "  @classmethod\n",
    "  def failureRate(cls,name,f_rate):\n",
    "    \n",
    "    success_rate=100-f_rate\n",
    "    return cls(name,success_rate)\n",
    "   \n",
    "  @classmethod\n",
    "  def failurePercentage(cls,name,f_per):\n",
    "   \n",
    "    fail_rate=int(f_per[:len(f_per)-1])\n",
    "    success_rate=100-fail_rate\n",
    "    return  cls(name,success_rate)\n",
    "  \n",
    "\n",
    "\n",
    "john_wick = Assassin('John Wick', 100)\n",
    "john_wick.printDetails()\n",
    "print('================================')\n",
    "nagisa = Assassin.failureRate(\"Nagisa\", 20)\n",
    "nagisa.printDetails()\n",
    "print('================================')\n",
    "akabane = Assassin.failurePercentage(\"Akabane\", \"10%\")\n",
    "akabane.printDetails()"
   ]
  },
  {
   "cell_type": "code",
   "execution_count": null,
   "metadata": {
    "colab": {
     "base_uri": "https://localhost:8080/"
    },
    "id": "tp9zG0dSOCgZ",
    "outputId": "04d141cc-2540-4ab1-a396-1f7206678f44"
   },
   "outputs": [
    {
     "name": "stdout",
     "output_type": "stream",
     "text": [
      "Total Passenger: 0\n",
      "=========================\n",
      "Name: Jack \n",
      "Bus Fare: 550 taka\n",
      "=========================\n",
      "Name: Carol \n",
      "Bus Fare: 450 taka\n",
      "=========================\n",
      "Name: Mike \n",
      "Bus Fare: 500 taka\n",
      "=========================\n",
      "Total Passenger: 3\n"
     ]
    }
   ],
   "source": [
    "#3\n",
    "class Passenger: \n",
    "  count=0\n",
    "  def __init__(self,name):\n",
    "    self.name=name\n",
    "    self.fare=450\n",
    "    Passenger.count+=1\n",
    "  def set_bag_weight(self,weight):\n",
    "    if 21<= weight <=50:             \n",
    "      self.fare += 50\n",
    "    elif weight>50:\n",
    "      self.fare +=100\n",
    "  def printDetail(self):\n",
    "    print(f'Name: {self.name} \\nBus Fare: {self.fare} taka')\n",
    "\n",
    "\n",
    "print('Total Passenger:', Passenger.count)\n",
    "p1 = Passenger('Jack')\n",
    "p1.set_bag_weight(90)\n",
    "p2 = Passenger('Carol')\n",
    "p2.set_bag_weight(10)\n",
    "p3 = Passenger('Mike')\n",
    "p3.set_bag_weight(25)\n",
    "print(\"=========================\")\n",
    "p1.printDetail()\n",
    "print(\"=========================\")\n",
    "p2.printDetail()\n",
    "print(\"=========================\")\n",
    "p3.printDetail()\n",
    "print(\"=========================\")\n",
    "print('Total Passenger:', Passenger.count)"
   ]
  },
  {
   "cell_type": "code",
   "execution_count": null,
   "metadata": {
    "colab": {
     "base_uri": "https://localhost:8080/"
    },
    "id": "CXPtjn4YUkz0",
    "outputId": "2a6fa267-a92a-4faf-eed5-a605496b42ab"
   },
   "outputs": [
    {
     "name": "stdout",
     "output_type": "stream",
     "text": [
      "No. of Traveller = 0\n",
      "=======================\n",
      "Source: Dhaka \n",
      "Destination: India \n",
      "Flight Time: 1:00\n",
      "=======================\n",
      "Source: Kuala Lampur \n",
      "Destination: Dhaka \n",
      "Flight Time: 23:00\n",
      "=======================\n",
      "Source: Dhaka \n",
      "Destination: Germany \n",
      "Flight Time: 15:00\n",
      "=======================\n",
      "Source: Malaysia \n",
      "Destination: Canada \n",
      "Flight Time: 9:00\n",
      "=======================\n",
      "No. of Traveller = 4\n"
     ]
    }
   ],
   "source": [
    "#4\n",
    "class Travel:\n",
    "  count=0\n",
    "  def __init__(self,start,end):\n",
    "    self.start=start\n",
    "    self.end=end\n",
    "    self.time=1\n",
    "    Travel.count+=1\n",
    "  def set_time(self,time):\n",
    "    self.time=time\n",
    "  def set_source(self,new_start):\n",
    "    self.start=new_start\n",
    "  def set_destination(self,new_end):\n",
    "    self.end=new_end\n",
    "  def display_travel_info(self):\n",
    "    return f'Source: {self.start} \\nDestination: {self.end} \\nFlight Time: {self.time}:00'\n",
    "\n",
    "\n",
    "\n",
    "print('No. of Traveller =', Travel.count)\n",
    "print(\"=======================\")\n",
    "t1 = Travel(\"Dhaka\",\"India\")\n",
    "print(t1.display_travel_info())\n",
    "print(\"=======================\")\n",
    "t2 = Travel(\"Kuala Lampur\",\"Dhaka\")\n",
    "t2.set_time(23)\n",
    "print(t2.display_travel_info())\n",
    "print(\"=======================\")\n",
    "t3 = Travel(\"Dhaka\",\"New_Zealand\")\n",
    "t3.set_time(15)\n",
    "t3.set_destination(\"Germany\")\n",
    "print(t3.display_travel_info())\n",
    "print(\"=======================\")\n",
    "t4 = Travel(\"Dhaka\",\"India\")\n",
    "t4.set_time(9)\n",
    "t4.set_source(\"Malaysia\")\n",
    "t4.set_destination(\"Canada\")\n",
    "print(t4.display_travel_info())\n",
    "print(\"=======================\")\n",
    "print('No. of Traveller =', Travel.count)\n"
   ]
  },
  {
   "cell_type": "code",
   "execution_count": null,
   "metadata": {
    "colab": {
     "base_uri": "https://localhost:8080/"
    },
    "id": "tS4wNOrhucUn",
    "outputId": "ca43c0df-5f3c-40ab-ab66-b1bb206e86d7"
   },
   "outputs": [
    {
     "name": "stdout",
     "output_type": "stream",
     "text": [
      "3\n",
      "6\n",
      "Dororo\n",
      "Harry\n",
      "He is not experienced\n",
      "She is experienced\n"
     ]
    }
   ],
   "source": [
    "#5\n",
    "class Employee:\n",
    "  def __init__(self,name, workingPeriod):\n",
    "    self.name=name\n",
    "    self.workingPeriod=workingPeriod\n",
    "  @classmethod\n",
    "  def employeeByJoiningYear(cls,name,year):\n",
    "    working_exp=2022-year\n",
    "    return cls(name,working_exp)\n",
    "  @staticmethod\n",
    "  def experienceCheck(exp,gender):\n",
    "    if exp<3 and gender=='male':\n",
    "      return 'He is not experienced'\n",
    "    elif exp<3 and gender=='female':\n",
    "      return 'She is not experienced'\n",
    "    elif exp>=3 and gender=='male':\n",
    "      return 'He is experienced'\n",
    "    elif exp>=3 and gender=='female':\n",
    "      return 'She is experienced'\n",
    "    \n",
    "\n",
    "employee1 = Employee('Dororo', 3)\n",
    "employee2 = Employee.employeeByJoiningYear('Harry', 2016)\n",
    "print(employee1.workingPeriod)\n",
    "print(employee2.workingPeriod)\n",
    "print(employee1.name)\n",
    "print(employee2.name)\n",
    "print(Employee.experienceCheck(2, \"male\"))\n",
    "print(Employee.experienceCheck(3, \"female\"))"
   ]
  },
  {
   "cell_type": "code",
   "execution_count": null,
   "metadata": {
    "colab": {
     "base_uri": "https://localhost:8080/"
    },
    "id": "rxhVtzpn4bz4",
    "outputId": "982d8e5b-26d3-4397-cb30-68d51f2075f8"
   },
   "outputs": [
    {
     "name": "stdout",
     "output_type": "stream",
     "text": [
      "Lenovo 5\n",
      "Dell 7\n",
      "Total number of Laptops 12\n",
      "Laptops are portable\n",
      "Total number of Laptops 0\n"
     ]
    }
   ],
   "source": [
    "#6\n",
    "class Laptop:\n",
    "  laptopCount=0\n",
    "  def __init__(self,name,count):\n",
    "    self.name=name\n",
    "    self.count=count\n",
    "    Laptop.laptopCount+=self.count\n",
    "  @staticmethod\n",
    "  def advantage():\n",
    "    print('Laptops are portable')\n",
    "  @staticmethod\n",
    "  def resetCount():\n",
    "    Laptop.laptopCount=0\n",
    "\n",
    "\n",
    "\n",
    "lenovo = Laptop(\"Lenovo\", 5);\n",
    "dell = Laptop(\"Dell\", 7);\n",
    "print(lenovo.name, lenovo.count)\n",
    "print(dell.name, dell.count)\n",
    "print(\"Total number of Laptops\", Laptop.laptopCount)\n",
    "Laptop.advantage()\n",
    "Laptop.resetCount()\n",
    "print(\"Total number of Laptops\", Laptop.laptopCount)"
   ]
  },
  {
   "cell_type": "code",
   "execution_count": null,
   "metadata": {
    "colab": {
     "base_uri": "https://localhost:8080/"
    },
    "id": "3iXztjfAEskR",
    "outputId": "7410b4ce-8d4f-41a2-95ab-a00b762a08de"
   },
   "outputs": [
    {
     "name": "stdout",
     "output_type": "stream",
     "text": [
      "Total number of cats: 0\n",
      "=======================\n",
      "White cat is sitting\n",
      "Black cat is sitting\n",
      "Brown cat is jumping\n",
      "Red cat is purring\n",
      "Grey cat is playing\n",
      "Blue cat is sitting\n",
      "Purple cat is jumping\n",
      "=======================\n",
      "Total number of cats: 5\n"
     ]
    }
   ],
   "source": [
    "#7\n",
    "class Cat:\n",
    "  Number_of_cats=0\n",
    "  \n",
    "  def __init__(self, color, action):\n",
    "   self.color = color\n",
    "   self.action = action\n",
    "   Cat.Number_of_cats += 1\n",
    "  def printCat(self):\n",
    "    print(f'{self.color} cat is {self.action}')\n",
    "  @classmethod\n",
    "  def no_parameter(cls):\n",
    "    color = \"White\"\n",
    "    action = \"sitting\"\n",
    "    return cls(color, action)\n",
    "   \n",
    "  @classmethod\n",
    "  def first_parameter(cls,color):\n",
    "    action = \"sitting\"\n",
    "    return cls(color, action)\n",
    "   \n",
    "    \n",
    "  @classmethod\n",
    "  def second_parameter(cls,action):\n",
    "    color = \"Grey\"\n",
    "    return cls(color, action)\n",
    "  def changeColor(self,color):\n",
    "     self.color = color\n",
    "  \n",
    "\n",
    "print(\"Total number of cats:\", Cat.Number_of_cats)\n",
    "c1 = Cat.no_parameter()\n",
    "c2 = Cat.first_parameter(\"Black\")\n",
    "c3 = Cat(\"Brown\", \"jumping\")\n",
    "c4 = Cat(\"Red\", \"purring\")\n",
    "c5 = Cat.second_parameter(\"playing\")\n",
    "print(\"=======================\")\n",
    "c1.printCat()\n",
    "c2.printCat()\n",
    "c3.printCat()\n",
    "c4.printCat()\n",
    "c5.printCat()\n",
    "c1.changeColor(\"Blue\")\n",
    "c3.changeColor(\"Purple\")\n",
    "c1.printCat()\n",
    "c3.printCat()\n",
    "print(\"=======================\")\n",
    "print(\"Total number of cats:\", Cat.Number_of_cats)"
   ]
  },
  {
   "cell_type": "code",
   "execution_count": null,
   "metadata": {
    "colab": {
     "base_uri": "https://localhost:8080/"
    },
    "id": "g-sJwd-jvHV7",
    "outputId": "3f1da3c1-049c-4e42-a60c-83ce76c5a85d"
   },
   "outputs": [
    {
     "name": "stdout",
     "output_type": "stream",
     "text": [
      "Default radius=5 and height=18.\n",
      "Updated: radius=0 and height=0.\n",
      "Area: 0.0\n",
      "Volume: 0.0\n",
      "===============================\n",
      "Default radius=0 and height=0.\n",
      "Updated: radius=3 and height=8.\n",
      "Area: 207.34511513692635\n",
      "Volume: 226.1946710584651\n",
      "===============================\n",
      "Default radius=3 and height=8.\n",
      "Updated: radius=7.0 and height=13.0.\n",
      "Area: 879.645943005142\n",
      "Volume: 2001.1945203366981\n",
      "===============================\n",
      "Default radius=7.0 and height=13.0.\n",
      "Updated: radius=0.3 and height=5.56.\n",
      "Area: 11.045839770021713\n",
      "===============================\n",
      "Default radius=0.3 and height=5.56.\n",
      "Updated: radius=3 and height=5.\n",
      "Volume: 141.3716694115407\n"
     ]
    }
   ],
   "source": [
    "#8\n",
    "import math\n",
    "class Cylinder:\n",
    "  radius=5\n",
    "  height=18\n",
    "  def __init__(self,radius,height):\n",
    "    print(f'Default radius={Cylinder.radius} and height={Cylinder.height}.')\n",
    "    Cylinder.radius=radius\n",
    "    Cylinder.height=height\n",
    "    print(f'Updated: radius={Cylinder.radius} and height={Cylinder.height}.')\n",
    "  @classmethod\n",
    "  def swap(cls,height,radius):\n",
    "    return cls(radius,height)\n",
    "  @classmethod\n",
    "  def changeFormat(cls,info):\n",
    "    radius,height=info.split('-')\n",
    "    return cls(float(radius),float(height))\n",
    "  @staticmethod\n",
    "  def area(radius,height):\n",
    "    print('Area:', 2* math.pi*((radius**2)+(radius*height)))\n",
    "  @staticmethod\n",
    "  def volume(radius,height):\n",
    "    print('Volume:',math.pi*radius**2*height)\n",
    "c1 = Cylinder(0,0)\n",
    "Cylinder.area(c1.radius,c1.height)\n",
    "Cylinder.volume(c1.radius,c1.height)\n",
    "print(\"===============================\")\n",
    "c2 = Cylinder.swap(8,3)\n",
    "c2.area(c2.radius,c2.height)\n",
    "c2.volume(c2.radius,c2.height)\n",
    "print(\"===============================\")\n",
    "c3 = Cylinder.changeFormat(\"7-13\")\n",
    "c3.area(c3.radius,c3.height)\n",
    "c3.volume(c3.radius,c3.height)\n",
    "print(\"===============================\")\n",
    "Cylinder(0.3,5.56).area(Cylinder.radius,Cylinder.height)\n",
    "print(\"===============================\")\n",
    "Cylinder(3,5).volume(Cylinder.radius,Cylinder.height)\n"
   ]
  },
  {
   "cell_type": "code",
   "execution_count": null,
   "metadata": {
    "colab": {
     "base_uri": "https://localhost:8080/"
    },
    "id": "VLz0bz4uDbok",
    "outputId": "8af10488-93b3-41d5-d8a3-9dadb9a5230b"
   },
   "outputs": [
    {
     "name": "stdout",
     "output_type": "stream",
     "text": [
      "Total Student(s): 0 \n",
      "BRAC University Student(s): 0 \n",
      "Other Institution Student(s): 0\n",
      "#########################\n",
      "Name: Mikasa Ackerman \n",
      "Department: CSE \n",
      "Institution: BRAC University\n",
      "------------------------------------------\n",
      "Total Student(s): 1 \n",
      "BRAC University Student(s): 1 \n",
      "Other Institution Student(s): 0\n",
      "========================\n",
      "Name: Harry Potter \n",
      "Department: Defence Against Dark Arts \n",
      "Institution: Hogwarts School\n",
      "-------------------------------------------\n",
      "Total Student(s): 2 \n",
      "BRAC University Student(s): 1 \n",
      "Other Institution Student(s): 1\n",
      "=========================\n",
      "Name: Levi Ackerman \n",
      "Department: CSE \n",
      "Institution: BRAC University\n",
      "--------------------------------------------\n",
      "Total Student(s): 3 \n",
      "BRAC University Student(s): 2 \n",
      "Other Institution Student(s): 1\n"
     ]
    }
   ],
   "source": [
    "#9\n",
    "class Student:\n",
    "  totalCount=0\n",
    "  bracCount=0\n",
    "  otherCount=0\n",
    "  def __init__(self,name,dept,instituion=None):\n",
    "    self.name=name\n",
    "    self.dept=dept\n",
    "    if instituion:\n",
    "      self.instituion=instituion\n",
    "      Student.otherCount+=1\n",
    "      \n",
    "    else:\n",
    "      self.instituion='BRAC University'\n",
    "      Student.bracCount+=1\n",
    "    Student.totalCount+=1\n",
    "\n",
    "  def individualDetail(self):\n",
    "    print(f'Name: {self.name} \\nDepartment: {self.dept} \\nInstitution: {self.instituion}')\n",
    "  @classmethod\n",
    "  def createStudent(cls,name,dept,instituion=None):\n",
    "    return cls(name,dept,instituion)\n",
    "  @classmethod\n",
    "  def printDetails(cls):\n",
    "    print(f'Total Student(s): {Student.totalCount} \\nBRAC University Student(s): {Student.bracCount} \\nOther Institution Student(s): {Student.otherCount}')\n",
    "Student.printDetails()\n",
    "print('#########################')\n",
    "mikasa = Student('Mikasa Ackerman', \"CSE\")\n",
    "mikasa.individualDetail()\n",
    "print('------------------------------------------')\n",
    "Student.printDetails()\n",
    "print('========================')\n",
    "harry = Student.createStudent('Harry Potter', \"Defence Against Dark Arts\", \"Hogwarts School\")\n",
    "harry.individualDetail()\n",
    "print('-------------------------------------------')\n",
    "Student.printDetails()\n",
    "print('=========================')\n",
    "levi = Student.createStudent(\"Levi Ackerman\", \"CSE\")\n",
    "levi.individualDetail()\n",
    "print('--------------------------------------------')\n",
    "Student.printDetails()"
   ]
  },
  {
   "cell_type": "code",
   "execution_count": null,
   "metadata": {
    "colab": {
     "base_uri": "https://localhost:8080/"
    },
    "id": "AGwMuuYJLBdT",
    "outputId": "6c42080a-472a-4d4e-9f94-e48fbacee229"
   },
   "outputs": [
    {
     "name": "stdout",
     "output_type": "stream",
     "text": [
      "Total Number of branch(s): 0 \n",
      "Total Sell: 0 Taka\n",
      "########################\n",
      "Branch Name: Dhanmondi Branch Sell: 10000 Taka\n",
      "-----------------------------------------\n",
      "Total Number of branch(s): 1 \n",
      "Total Sell: 10000 Taka\n",
      "Branch Name: Dhanmondi Branch Sell: 10000 Taka\n",
      "Branch consists of total sell's: 100.00%\n",
      "========================\n",
      "Branch Name: Baily Road Branch Sell: 5250 Taka\n",
      "-----------------------------------------\n",
      "Total Number of branch(s): 2 \n",
      "Total Sell: 15250 Taka\n",
      "Branch Name: Dhanmondi Branch Sell: 10000 Taka\n",
      "Branch consists of total sell's: 65.57%\n",
      "Branch Name: Baily Road Branch Sell: 5250 Taka\n",
      "Branch consists of total sell's: 34.43%\n",
      "========================\n",
      "Branch Name: Gulshan Branch Sell: 2700 Taka\n",
      "-----------------------------------------\n",
      "Total Number of branch(s): 3 \n",
      "Total Sell: 17950 Taka\n",
      "Branch Name: Dhanmondi Branch Sell: 10000 Taka\n",
      "Branch consists of total sell's: 55.71%\n",
      "Branch Name: Baily Road Branch Sell: 5250 Taka\n",
      "Branch consists of total sell's: 29.25%\n",
      "Branch Name: Gulshan Branch Sell: 2700 Taka\n",
      "Branch consists of total sell's: 15.04%\n"
     ]
    }
   ],
   "source": [
    "#10\n",
    "class SultansDine:\n",
    "  branch_no=0\n",
    "  sell=0\n",
    "  branch_info=[]\n",
    "  def __init__(self,location):\n",
    "    self.location=location\n",
    "    SultansDine.branch_info.append(self)\n",
    "    SultansDine.branch_no+=1\n",
    "    self.branch_sell=0\n",
    "  def sellQuantity(self, quantity): \n",
    "    SultansDine.sell-=self.branch_sell    \n",
    "    if quantity<10:       \n",
    "      self.branch_sell=quantity*300\n",
    "    elif quantity<20:       \n",
    "      self.branch_sell=quantity*350     \n",
    "    else:       \n",
    "      self.branch_sell=quantity*400\n",
    "    SultansDine.sell+=self.branch_sell\n",
    "    \n",
    "  def branchInformation(self):\n",
    "      print(f'Branch Name: {self.location} Branch Sell: {self.branch_sell} Taka')\n",
    "      \n",
    "      \n",
    "  \n",
    "  @classmethod\n",
    "  def details(cls):\n",
    "    print(f'Total Number of branch(s): {SultansDine.branch_no} \\nTotal Sell: {SultansDine.sell} Taka')\n",
    "    for i in SultansDine.branch_info:\n",
    "      i.branchInformation()\n",
    "      sell_per=(i.branch_sell/SultansDine.sell)*100\n",
    "      print(\"Branch consists of total sell's:\", '{0:5.2f}'.format(sell_per)+'%')\n",
    "\n",
    "SultansDine.details()\n",
    "print('########################')\n",
    "dhanmodi = SultansDine('Dhanmondi')\n",
    "dhanmodi.sellQuantity(25)\n",
    "dhanmodi.branchInformation()\n",
    "print('-----------------------------------------')\n",
    "SultansDine.details()\n",
    "print('========================')\n",
    "baily_road = SultansDine('Baily Road')\n",
    "baily_road.sellQuantity(15)\n",
    "baily_road.branchInformation()\n",
    "print('-----------------------------------------')\n",
    "SultansDine.details()\n",
    "print('========================')\n",
    "gulshan = SultansDine('Gulshan')\n",
    "gulshan.sellQuantity(9)\n",
    "gulshan.branchInformation()\n",
    "print('-----------------------------------------')\n",
    "SultansDine.details()\n"
   ]
  }
 ],
 "metadata": {
  "colab": {
   "collapsed_sections": [],
   "provenance": []
  },
  "kernelspec": {
   "display_name": "Python 3 (ipykernel)",
   "language": "python",
   "name": "python3"
  },
  "language_info": {
   "codemirror_mode": {
    "name": "ipython",
    "version": 3
   },
   "file_extension": ".py",
   "mimetype": "text/x-python",
   "name": "python",
   "nbconvert_exporter": "python",
   "pygments_lexer": "ipython3",
   "version": "3.9.7"
  }
 },
 "nbformat": 4,
 "nbformat_minor": 1
}
