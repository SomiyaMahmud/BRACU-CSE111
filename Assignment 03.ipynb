{
 "cells": [
  {
   "cell_type": "code",
   "execution_count": 1,
   "metadata": {
    "colab": {
     "base_uri": "https://localhost:8080/"
    },
    "id": "cXOzReyh8xo_",
    "outputId": "01caaedf-2c7e-4b9d-b7c2-0f6ed1957286"
   },
   "outputs": [
    {
     "name": "stdout",
     "output_type": "stream",
     "text": [
      "1\n",
      "+\n",
      "2\n",
      "Let's Calculate!\n",
      "Value 1: 1\n",
      "Operator: +\n",
      "Value 2: 2\n",
      "Result : 3\n"
     ]
    }
   ],
   "source": [
    "#1\n",
    "class Calculator:\n",
    "    def __init__(self, first_value, operator, second_value):\n",
    "        print(\"Let's Calculate!\")\n",
    "        self.first_value = first_value\n",
    "        self.operator = operator\n",
    "        self.second_value = second_value\n",
    "\n",
    "        print(f\"Value 1: {self.first_value}\")\n",
    "        print(f\"Operator: {self.operator}\")\n",
    "        print(f\"Value 2: {self.second_value}\")\n",
    "\n",
    "        if self.operator == \"+\":\n",
    "            Calculator.add(self)\n",
    "        elif self.operator == \"-\":\n",
    "            Calculator.subtract(self)\n",
    "        elif self.operator == \"*\":\n",
    "            Calculator.multiply(self)\n",
    "        elif self.operator == \"/\":\n",
    "            Calculator.divide(self)\n",
    "\n",
    "    def add(self):\n",
    "        print(f\"Result : {self.first_value + self.second_value}\")\n",
    "\n",
    "    def subtract(self):\n",
    "        print(f\"Result : {self.first_value - self.second_value}\")\n",
    "\n",
    "    def multiply(self):\n",
    "        print(f\"Result : {self.first_value * self.second_value}\")\n",
    "\n",
    "    def divide(self):\n",
    "        print(f\"Result : {self.first_value / self.second_value}\")\n",
    "\n",
    "\n",
    "first_value = int(input())\n",
    "operator = input()\n",
    "second_value = int(input())\n",
    "\n",
    "calc = Calculator(first_value, operator, second_value)"
   ]
  },
  {
   "cell_type": "code",
   "execution_count": null,
   "metadata": {
    "colab": {
     "base_uri": "https://localhost:8080/"
    },
    "id": "Bi_y2AZL43Cg",
    "outputId": "293b3ab6-3513-47b6-da3a-11847d833466"
   },
   "outputs": [
    {
     "name": "stdout",
     "output_type": "stream",
     "text": [
      "CSE110 -  TBA - 8\n",
      "===============\n",
      "CSE111 -  TBA - 9\n"
     ]
    }
   ],
   "source": [
    "#2\n",
    "class Course:\n",
    "  def __init__(self,course,faculty,sec):\n",
    "    self.course=course\n",
    "    self.faculty=faculty\n",
    "    self.sec=sec\n",
    "  def detail(self):\n",
    "    print(self.course,'-',self.faculty,'-',self.sec)\n",
    "c1=Course('CSE110',' TBA',8)\n",
    "c1.detail()\n",
    "print(\"===============\")\n",
    "c2=Course('CSE111',' TBA',9)\n",
    "c2.detail()"
   ]
  },
  {
   "cell_type": "code",
   "execution_count": null,
   "metadata": {
    "colab": {
     "base_uri": "https://localhost:8080/"
    },
    "id": "gMXJPhfpLmCU",
    "outputId": "01bc15b8-12f8-43c0-f533-46a1964b7b06"
   },
   "outputs": [
    {
     "name": "stdout",
     "output_type": "stream",
     "text": [
      " Name:  A\n",
      " Age: 55\n",
      " Weight: 63.0\n",
      " Hight 158.0\n",
      " BMI 25.236340330075304\n",
      " ==========================\n",
      " Name:  B\n",
      " Age: 53\n",
      " Weight: 61.0\n",
      " Hight 149.0\n",
      " BMI 27.476239809017613\n"
     ]
    }
   ],
   "source": [
    "#3\n",
    "class Patient:\n",
    "  def __init__(self,name,age,weight,height):\n",
    "    self.name=name\n",
    "    self.age=age\n",
    "    self.weight=weight\n",
    "    self.height=height\n",
    "  def printDetails(self):\n",
    "    print(' Name:',self.name)\n",
    "    print(' Age:',self.age)\n",
    "    print(' Weight:',self.weight)\n",
    "    print(' Hight',self.height)\n",
    "    print(' BMI',(self.weight/((self.height/100)**2)))\n",
    "p1=Patient(' A',55,63.0,158.0)\n",
    "p1.printDetails()\n",
    "print(' ==========================')\n",
    "p2=Patient(' B',53,61.0,149.0)\n",
    "p2.printDetails()"
   ]
  },
  {
   "cell_type": "code",
   "execution_count": null,
   "metadata": {
    "colab": {
     "base_uri": "https://localhost:8080/"
    },
    "id": "9GmeKHFbPxw5",
    "outputId": "40a52e4a-d3b3-4ebd-9646-0397ea27e25b"
   },
   "outputs": [
    {
     "name": "stdout",
     "output_type": "stream",
     "text": [
      "(0, 0)\n",
      "(0, 1)\n",
      "(-1, 1)\n",
      "(-1, 0)\n"
     ]
    }
   ],
   "source": [
    "#4\n",
    "class Vehicle():\n",
    "  def __init__(self):\n",
    "    self.x=0\n",
    "    self.y=0\n",
    "  def moveUp(self):\n",
    "    self.y+=1\n",
    "  def moveLeft(self):\n",
    "    self.x-=1\n",
    "  def moveDown(self):\n",
    "    self.y-=1\n",
    "  def moveRight(self):\n",
    "    self.x+=1\n",
    "  def print_position(self):\n",
    "    print((self.x,self.y))\n",
    "car=Vehicle()\n",
    "car.print_position()\n",
    "car.moveUp()\n",
    "car.print_position()\n",
    "car.moveLeft()\n",
    "car.print_position()\n",
    "car.moveDown()\n",
    "car.print_position()\n",
    "car.moveRight()"
   ]
  },
  {
   "cell_type": "code",
   "execution_count": null,
   "metadata": {
    "colab": {
     "base_uri": "https://localhost:8080/"
    },
    "id": "PWb-xnihhUW2",
    "outputId": "38648b97-8b40-42a2-dd41-1119fb7848d1"
   },
   "outputs": [
    {
     "name": "stdout",
     "output_type": "stream",
     "text": [
      "Area: 125.0\n",
      "==========================\n",
      "Area: 100\n",
      "==========================\n",
      "Area: 225.0\n",
      "==========================\n",
      "Area: 450\n",
      "==========================\n",
      "Area: Shape Unknown\n"
     ]
    }
   ],
   "source": [
    "#5\n",
    "class Shape:\n",
    "  def __init__(self,name,a,b):\n",
    "    self.name=name\n",
    "    self.a=a\n",
    "    self.b=b\n",
    "  def area(self):\n",
    "    if self.name=='Triangle' or self.name=='Rhombus':\n",
    "      print('Area:',(self.a*self.b)/2)\n",
    "    elif self.name=='Square' or self.name=='Rectangle':\n",
    "      print('Area:',(self.a*self.b))\n",
    "    else:\n",
    "      print('Area:','Shape Unknown')\n",
    "triangle = Shape(\"Triangle\",10,25)\n",
    "triangle.area()\n",
    "print(\"==========================\")\n",
    "square = Shape(\"Square\",10,10)\n",
    "square.area()\n",
    "print(\"==========================\")\n",
    "rhombus = Shape(\"Rhombus\",18,25)\n",
    "rhombus.area()\n",
    "print(\"==========================\")\n",
    "rectangle = Shape(\"Rectangle\",15,30)\n",
    "rectangle.area()\n",
    "print(\"==========================\")\n",
    "trapezium = Shape(\"Trapezium\",15,30)\n",
    "trapezium.area()"
   ]
  },
  {
   "cell_type": "code",
   "execution_count": null,
   "metadata": {
    "colab": {
     "base_uri": "https://localhost:8080/"
    },
    "id": "uOWgVYRxUOXN",
    "outputId": "37dad7cb-b4d8-434a-9d75-718d1d7c8b6c"
   },
   "outputs": [
    {
     "name": "stdout",
     "output_type": "stream",
     "text": [
      "Calculator is ready!\n",
      "==================\n",
      "Returned value: 30\n",
      "10 + 20  = 30\n",
      "==================\n",
      "Returned value: 20\n",
      "30 - 10  = 20\n",
      "==================\n",
      "Returned value: 100\n",
      "20 * 5  = 100\n",
      "==================\n",
      "Returned value: 6.25\n",
      "100 / 16  = 6.25\n"
     ]
    }
   ],
   "source": [
    "#6\n",
    "class Calculator:\n",
    "  def __init__(self):\n",
    "    print('Calculator is ready!')\n",
    "  def calculate(self,val1,val2,operator):\n",
    "    self.val1=val1\n",
    "    self.val2=val2\n",
    "    self.operator=operator\n",
    "    if self.operator=='+':\n",
    "      sum=self.val1+self.val2\n",
    "      return sum\n",
    "    elif self.operator=='-':\n",
    "      sub=self.val1-self.val2\n",
    "      return sub\n",
    "    elif self.operator=='*':\n",
    "      mul=self.val1*self.val2\n",
    "      return mul\n",
    "    elif self.operator=='/':\n",
    "      div=self.val1/self.val2\n",
    "      return div\n",
    "  def showCalculation(self):\n",
    "    print(self.val1,self.operator,self.val2,' =',self.calculate(self.val1,self.val2,self.operator))\n",
    "c1 = Calculator()\n",
    "print(\"==================\")\n",
    "val = c1.calculate(10, 20, '+')\n",
    "print(\"Returned value:\", val)\n",
    "c1.showCalculation()\n",
    "print(\"==================\")\n",
    "val = c1.calculate(val, 10, '-')\n",
    "print(\"Returned value:\", val)\n",
    "c1.showCalculation()\n",
    "print(\"==================\")\n",
    "val = c1.calculate(val, 5, '*')\n",
    "print(\"Returned value:\", val)\n",
    "c1.showCalculation()\n",
    "print(\"==================\")\n",
    "val = c1.calculate(val, 16, '/')\n",
    "print(\"Returned value:\", val)\n",
    "c1.showCalculation()"
   ]
  },
  {
   "cell_type": "code",
   "execution_count": null,
   "metadata": {
    "colab": {
     "base_uri": "https://localhost:8080/"
    },
    "id": "_1CTSh1ohxIX",
    "outputId": "dac2e5ca-76a3-40bc-d9db-8f3ff3247d37"
   },
   "outputs": [
    {
     "name": "stdout",
     "output_type": "stream",
     "text": [
      "==========================\n",
      "Name: Dora, ID: 15995599\n",
      "Department: CSE\n",
      "CGPA: 3.85\n",
      "Your academic standing is 'Highest Distinction'\n",
      "==========================\n",
      "==========================\n",
      "Name: Pingu, ID: 12312322\n",
      "Department: EEE\n",
      "CGPA: 1.32\n",
      "Sorry,you cannot gradute\n",
      "==========================\n",
      "==========================\n",
      "Name: Bob, ID: 13311331\n",
      "Department: CSE\n",
      "CGPA: 2.85\n",
      "Your academic standing is 'Satisfactory'\n"
     ]
    }
   ],
   "source": [
    "#7\n",
    "class Student:\n",
    "  def __init__(self,name,id,department,cgpa):\n",
    "    self.name=name\n",
    "    self.id=id\n",
    "    self.department=department\n",
    "    self.cgpa=cgpa\n",
    "    \n",
    "  def calculate_CGPA(self):\n",
    "    sum=0\n",
    "    for i in self.cgpa:\n",
    "      sum+=(i*3)\n",
    "    self.final=sum/(len(self.cgpa)*3)\n",
    "\n",
    "  def print_details(self):\n",
    "    print('Name:',self.name+',','ID:',self.id)\n",
    "    print('Department:',self.department)\n",
    "    print('CGPA:',self.final)\n",
    "    if self.final>3.80:\n",
    "      print(\"Your academic standing is 'Highest Distinction'\")\n",
    "    elif self.final>3.65:\n",
    "      print(\"Your academic standing is 'High Distinction'\")\n",
    "    elif self.final>3.50:\n",
    "      print(\"Your academic standing is 'Distinction'\")\n",
    "    elif self.final>2:\n",
    "      print(\"Your academic standing is 'Satisfactory'\")\n",
    "    elif self.final<2:\n",
    "      print('Sorry,you cannot gradute')\n",
    "    \n",
    "\n",
    "s1 = Student('Dora', '15995599','CSE', [4,3.7,3.7,4])\n",
    "s1.calculate_CGPA()\n",
    "print(\"==========================\")\n",
    "s1.print_details()\n",
    "print(\"==========================\")\n",
    "s2 = Student('Pingu', '12312322', 'EEE', [1.7,1.3,1.3,1.3,1])\n",
    "s2.calculate_CGPA()\n",
    "print(\"==========================\")\n",
    "s2.print_details()\n",
    "print(\"==========================\")\n",
    "s3 = Student('Bob', '13311331', 'CSE', [2,3,3,3.7,2.7,2.7])\n",
    "s3.calculate_CGPA()\n",
    "print(\"==========================\")\n",
    "s3.print_details()"
   ]
  },
  {
   "cell_type": "code",
   "execution_count": null,
   "metadata": {
    "colab": {
     "base_uri": "https://localhost:8080/"
    },
    "id": "HyjAqFhlGFQK",
    "outputId": "b80b21a2-6a01-4e1d-acd7-785d6706b525"
   },
   "outputs": [
    {
     "name": "stdout",
     "output_type": "stream",
     "text": [
      "Name: Naruto\n",
      "Rank: Genin\n",
      "Number of mission: 5\n",
      "Salary: 250\n",
      "====================\n",
      "Name: Shikamaru\n",
      "Rank: Genin\n",
      "Number of mission: 0\n",
      "Salary: 0\n",
      "Name: Shikamaru\n",
      "Rank: Chunin\n",
      "Number of mission: 10\n",
      "Salary: 1000\n",
      "====================\n",
      "Name: Neiji\n",
      "Rank: Jonin\n",
      "Number of mission: 5\n",
      "Salary: 2500\n"
     ]
    }
   ],
   "source": [
    "#8\n",
    "class Shinobi:\n",
    "  def __init__(self,name,rank):\n",
    "    self.name=name\n",
    "    self.rank=rank\n",
    "    self.salary=0\n",
    "    self.mission=0\n",
    "  def changeRank(self,updated_rank):\n",
    "    self.rank=updated_rank\n",
    "  def calSalary(self,mission):\n",
    "    self.mission=mission\n",
    "  def printInfo(self):\n",
    "    print('Name:', self.name)\n",
    "    print('Rank:',self.rank)\n",
    "    print('Number of mission:',self.mission)    \n",
    "    if self.rank=='Genin':\n",
    "      print('Salary:',self.mission*50)\n",
    "    elif self.rank=='Chunin':\n",
    "      print('Salary:',self.mission*100)\n",
    "    else:\n",
    "      print('Salary:',self.mission*500)\n",
    "naruto = Shinobi(\"Naruto\", \"Genin\")\n",
    "naruto.calSalary(5)\n",
    "naruto.printInfo()\n",
    "print('====================')\n",
    "shikamaru = Shinobi('Shikamaru', \"Genin\")\n",
    "shikamaru.printInfo()\n",
    "shikamaru.changeRank(\"Chunin\")\n",
    "shikamaru.calSalary(10)\n",
    "shikamaru.printInfo()\n",
    "print('====================')\n",
    "neiji = Shinobi(\"Neiji\", \"Jonin\")\n",
    "neiji.calSalary(5)\n",
    "neiji.printInfo()"
   ]
  },
  {
   "cell_type": "code",
   "execution_count": null,
   "metadata": {
    "colab": {
     "base_uri": "https://localhost:8080/"
    },
    "id": "pb4fZkVpt9kq",
    "outputId": "d07e4ff6-b536-4787-de75-d954bb45c72d"
   },
   "outputs": [
    {
     "name": "stdout",
     "output_type": "stream",
     "text": [
      "Horry! A new programmer is born\n",
      "Name: Ethen Hunt\n",
      "Language: Java\n",
      "Experience: 10 years\n",
      "--------------------------\n",
      "Horry! A new programmer is born\n",
      "Name: James Bond\n",
      "Language: C++\n",
      "Experience: 7 years\n",
      "--------------------------\n",
      "Horry! A new programmer is born\n",
      "Name: Jon Snow\n",
      "Language: Python\n",
      "Experience: 4 years\n",
      "Updating experience of Jon Snow\n",
      "Name: Jon Snow\n",
      "Language: Python\n",
      "Experience: 9 years\n"
     ]
    }
   ],
   "source": [
    "#9\n",
    "class Programmer:\n",
    "  def __init__(self,name,language,experience):\n",
    "    self.name=name\n",
    "    self.language=language\n",
    "    self.experience=experience\n",
    "    print('Horry! A new programmer is born')\n",
    "  def printDetails(self):\n",
    "    print('Name:',self.name)\n",
    "    print('Language:',self.language)\n",
    "    print('Experience:',self.experience,'years')\n",
    "  def addExp(self,updated_exp):\n",
    "    print('Updating experience of',self.name)\n",
    "    self.experience+=updated_exp\n",
    "p1 = Programmer(\"Ethen Hunt\", \"Java\", 10)\n",
    "p1.printDetails()\n",
    "print('--------------------------')\n",
    "p2 = Programmer(\"James Bond\", \"C++\", 7)\n",
    "p2.printDetails()\n",
    "print('--------------------------')\n",
    "p3 = Programmer(\"Jon Snow\", \"Python\", 4)\n",
    "p3.printDetails()\n",
    "p3.addExp(5)\n",
    "p3.printDetails()"
   ]
  },
  {
   "cell_type": "code",
   "execution_count": null,
   "metadata": {
    "colab": {
     "base_uri": "https://localhost:8080/"
    },
    "id": "9s3U-pil7RXV",
    "outputId": "e010d2f6-d062-4101-a81c-3320aa75bfa2"
   },
   "outputs": [
    {
     "name": "stdout",
     "output_type": "stream",
     "text": [
      "Shakib, welcome to UberEats!\n",
      "=========================\n",
      "=========================\n",
      "User details: Name: Shakib, Phone: 01719658xxx, Address: Mohakhali\n",
      "Orders: {'Burger': 220, 'Coca Cola': 50}\n",
      "Total Paid Amount: 270\n",
      "=========================\n",
      "Siam, welcome to UberEats!\n",
      "=========================\n",
      "=========================\n",
      "User details: Name: Siam, Phone: 01719659xxx, Address: Uttara\n",
      "Orders: {'Pineapple': 80, 'Dairy Milk': 70}\n",
      "Total Paid Amount: 150\n"
     ]
    }
   ],
   "source": [
    "#10\n",
    "class UberEats:\n",
    "  def __init__(self,name,phone,location):\n",
    "    self.name=name\n",
    "    self.phone=phone\n",
    "    self.location=location\n",
    "    print(self.name+', welcome to UberEats!')\n",
    "  def add_items(self,item1,item2,price1,price2):\n",
    "    self.items={item1:price1,item2:price2}\n",
    "    self.total=self.items[item1]+self.items[item2]\n",
    "  def print_order_detail(self):\n",
    "    str1='User details: Name: '+self.name+', '+'Phone: '+self.phone+', '+ 'Address: '+self.location\n",
    "    str2='\\nOrders: '+str(self.items)\n",
    "    str3='\\nTotal Paid Amount: '+str(self.total)\n",
    "    str4=str1+str2+str3\n",
    "    return str4\n",
    "order1 = UberEats(\"Shakib\", \"01719658xxx\", \"Mohakhali\")\n",
    "print(\"=========================\")\n",
    "order1.add_items(\"Burger\", \"Coca Cola\", 220, 50)\n",
    "print(\"=========================\")\n",
    "print(order1.print_order_detail())\n",
    "print(\"=========================\")\n",
    "order2 = UberEats (\"Siam\", \"01719659xxx\", \"Uttara\")\n",
    "print(\"=========================\")\n",
    "order2.add_items(\"Pineapple\", \"Dairy Milk\", 80, 70)\n",
    "print(\"=========================\")\n",
    "print(order2.print_order_detail())"
   ]
  },
  {
   "cell_type": "code",
   "execution_count": null,
   "metadata": {
    "colab": {
     "base_uri": "https://localhost:8080/"
    },
    "id": "a9LkDTnfMS4B",
    "outputId": "c13c5f89-a38a-4d12-aea1-e422828eb805"
   },
   "outputs": [
    {
     "name": "stdout",
     "output_type": "stream",
     "text": [
      "Welcome to Spotify!\n",
      "=========================\n",
      "4 number song not found. Your playlist has 3 songs only.\n",
      "########################+##\n",
      "Playing 3 number song for you\n",
      "Song name: Hello\n",
      "########################+##\n",
      "Playing 4 number song for you\n",
      "Song name: Dusk Till Dawn\n"
     ]
    }
   ],
   "source": [
    "#11\n",
    "class Spotify:\n",
    "  def __init__(self,song_list):\n",
    "    self.song_list=song_list\n",
    "    print('Welcome to Spotify!')\n",
    "\n",
    "  def playing_number(self,song_no):\n",
    "    if song_no<=len(self.song_list):\n",
    "      str1='Playing '+str(song_no)+' number song for you'\n",
    "      str2='\\nSong name: '+self.song_list[song_no-1]\n",
    "      str4=str1+str2\n",
    "      return str4\n",
    "    \n",
    "    else:\n",
    "      str1= str(song_no)+' number song not found. Your playlist has '+str(len(self.song_list))+' songs only.'\n",
    "      str4=str1\n",
    "      return str4\n",
    "  def add_to_playlist(self,newsong):\n",
    "    self.song_list.append(newsong)\n",
    "user1 = Spotify([\"See You Again\", \"Uptown Funk\", \"Hello\"])\n",
    "print(\"=========================\")\n",
    "print(user1.playing_number(4))\n",
    "print('########################+##')\n",
    "user1.add_to_playlist(\"Dusk Till Dawn\")\n",
    "print(user1.playing_number(3))\n",
    "print('########################+##')\n",
    "print(user1.playing_number(4))"
   ]
  }
 ],
 "metadata": {
  "colab": {
   "collapsed_sections": [],
   "provenance": []
  },
  "kernelspec": {
   "display_name": "Python 3 (ipykernel)",
   "language": "python",
   "name": "python3"
  },
  "language_info": {
   "codemirror_mode": {
    "name": "ipython",
    "version": 3
   },
   "file_extension": ".py",
   "mimetype": "text/x-python",
   "name": "python",
   "nbconvert_exporter": "python",
   "pygments_lexer": "ipython3",
   "version": "3.9.7"
  }
 },
 "nbformat": 4,
 "nbformat_minor": 1
}
