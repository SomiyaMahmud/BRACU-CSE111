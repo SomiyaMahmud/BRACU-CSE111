{
 "cells": [
  {
   "cell_type": "markdown",
   "metadata": {
    "id": "SJasAVF7ncBO"
   },
   "source": [
    "# ***String***"
   ]
  },
  {
   "cell_type": "code",
   "execution_count": null,
   "metadata": {
    "id": "4KW8bYt8nkK2"
   },
   "outputs": [],
   "source": [
    "#1\n",
    "a=input('Enter a string: ')\n",
    "b=0\n",
    "c=0\n",
    "for i in a:\n",
    "  if i.isupper():\n",
    "    b+=1\n",
    "  elif i.islower():\n",
    "    c+=1\n",
    "if b>c:\n",
    "  print(a.upper())\n",
    "else:\n",
    "  print(a.lower())"
   ]
  },
  {
   "cell_type": "code",
   "execution_count": null,
   "metadata": {
    "id": "luax6Lm5Sd1y"
   },
   "outputs": [],
   "source": [
    "#1(alter)\n",
    "a=input()\n",
    "b=0\n",
    "c=0\n",
    "for i in a:\n",
    "  if 97<=ord(i)<=122:\n",
    "    b+=1\n",
    "  elif 65<=ord(i)<=90:\n",
    "    c+=1\n",
    "d=''\n",
    "if b<c:\n",
    "  for j in a:\n",
    "    if 97<=ord(j)<=122:\n",
    "       d+=chr(ord(j)-32)\n",
    "    elif 65<=ord(j)<=90:\n",
    "      d+=j\n",
    "  print(d)\n",
    "else:\n",
    "  for k in a:\n",
    "    if 97<=ord(k)<=122:\n",
    "       d+=k\n",
    "    elif 65<=ord(k)<=90:\n",
    "      d+=chr(ord(k)+32)\n",
    "  print(d)\n"
   ]
  },
  {
   "cell_type": "code",
   "execution_count": null,
   "metadata": {
    "colab": {
     "base_uri": "https://localhost:8080/"
    },
    "id": "aotlmgQXGR8D",
    "outputId": "47b5a019-a5cf-45a3-c62f-dee775fadfc2"
   },
   "outputs": [
    {
     "name": "stdout",
     "output_type": "stream",
     "text": [
      "jhg34y7\n",
      " MIXED\n"
     ]
    }
   ],
   "source": [
    "#2\n",
    "a=input()\n",
    "flag1=False\n",
    "flag2=False\n",
    "for i in a:\n",
    "  if 48<=ord(i)<=57:\n",
    "    flag1=True\n",
    "  elif 65<=ord(i)<=122:\n",
    "    flag2=True\n",
    "if flag1==True and flag2==True:\n",
    "  print(' MIXED')\n",
    "elif flag1==True:\n",
    "  print('Number')\n",
    "elif flag2==True:\n",
    "  print(' WORD')"
   ]
  },
  {
   "cell_type": "code",
   "execution_count": null,
   "metadata": {
    "colab": {
     "base_uri": "https://localhost:8080/"
    },
    "id": "UOGeGecVm8zU",
    "outputId": "d2779052-5888-4ea9-baed-0834f2120c79"
   },
   "outputs": [
    {
     "name": "stdout",
     "output_type": "stream",
     "text": [
      "coDIng \n",
      "BLANK\n"
     ]
    }
   ],
   "source": [
    "#3\n",
    "a=input()\n",
    "b='ABCDEFGHIJKLMNOPQRSTUVWXYZ'\n",
    "for i in range(len(a)):\n",
    "  if a[i] in b:\n",
    "    c=a[i+1:len(a)+1]\n",
    "    for j in range(len(c)):\n",
    "      if c[j] in b:\n",
    "        d=c[:j]\n",
    "if len(d)>0:\n",
    "   print(d)\n",
    "else:\n",
    "    print('BLANK')"
   ]
  },
  {
   "cell_type": "code",
   "execution_count": null,
   "metadata": {
    "colab": {
     "base_uri": "https://localhost:8080/"
    },
    "id": "UON_rrq2H4qw",
    "outputId": "4f010590-8f94-427b-a483-2651a0fca762"
   },
   "outputs": [
    {
     "name": "stdout",
     "output_type": "stream",
     "text": [
      "dean\n",
      "tom\n",
      "Nothing in common.\n"
     ]
    }
   ],
   "source": [
    "#4\n",
    "a1=input()\n",
    "a2=input()\n",
    "b=''\n",
    "c='Nothing in common.'\n",
    "flag=False\n",
    "for i in a1:\n",
    "  if i in a2:\n",
    "    b+=i\n",
    "    flag=True\n",
    "for i in a2:\n",
    "  if i in a1:\n",
    "    b+=i\n",
    "    flag=True\n",
    "if flag==False:\n",
    "  print(c)\n",
    "else:\n",
    "  print(b)"
   ]
  },
  {
   "cell_type": "code",
   "execution_count": null,
   "metadata": {
    "colab": {
     "base_uri": "https://localhost:8080/"
    },
    "id": "_OmipZfmKBKk",
    "outputId": "4b8c7182-dab4-4c5b-cc7e-182f6a1716b7"
   },
   "outputs": [
    {
     "name": "stdout",
     "output_type": "stream",
     "text": [
      "OhMyBR@CU20\n",
      "OK\n"
     ]
    }
   ],
   "source": [
    "#5\n",
    "a=input()\n",
    "x1=False\n",
    "x2=False\n",
    "x3=False\n",
    "x4=False\n",
    "n='_$#@'\n",
    "for i in a:\n",
    "  if 97<=ord(i)<=122:\n",
    "    x1=True\n",
    "  elif 65<=ord(i)<=90 :\n",
    "    x2=True\n",
    "  elif 48<=ord(i)<=57:\n",
    "    x3=True\n",
    "  elif i in n:\n",
    "    x4=True\n",
    "if x1==True and x2==True and x3==True and x4==True:\n",
    "  print('OK') \n",
    "elif x1==True and x2==False and x3==False and x4==False:\n",
    "  print('Uppercase character missing, Digit missing, Special character missing')\n",
    "elif x1==True and x2==True and x3==False and x4==True:\n",
    "  print(' Digit missing')\n",
    "elif x1==False and x2==True and x3==True and x4==True:\n",
    "  print('Lowercase character missing')\n",
    "elif x1==True and x2==False and x3==True and x4==True:\n",
    "  print('Uppercase character missing')\n",
    "elif x1==True and x2==True and x3==True and x4==False:\n",
    "  print('Special character missing')\n",
    "elif x1==False and x2==True and x3==False and x4==False:\n",
    "  print('Lowercase character missing, Digit missing, Special character missing')\n",
    "elif x1==False and x2==False and x3==False and x4==True:\n",
    "  print('Lowercase character missing,Uppercase character missing, Digit missing')\n",
    "elif x1==False and x2==False and x3==True and x4==False:\n",
    "  print('Lowercase character missing,Uppercase character missing, Special character missing')\n",
    "elif x1==False and x2==False and x3==True and x4==True:\n",
    "  print('Lowercase character missing,Uppercase character missing')\n",
    "elif x1==True and x2==True and x3==False and x4==False:\n",
    "  print('Digit missing, Special character missing')\n",
    "elif x1==False and x2==True and x3==True and x4==False:\n",
    "  print('Lowercase character missing, Special character missing')\n",
    "elif x1==False and x2==True and x3==False and x4==True:\n",
    "  print('Lowercase character missing, Digit missing')\n",
    "elif x1==True and x2==False and x3==False and x4==True:\n",
    "  print('Uppercase character missing, Digit missing')\n",
    "elif x1==True and x2==False and x3==True and x4==False:\n",
    "  print('Uppercase character missing, Special character missing')"
   ]
  },
  {
   "cell_type": "markdown",
   "metadata": {
    "id": "ItCnwqC97dLr"
   },
   "source": [
    "# ***list***"
   ]
  },
  {
   "cell_type": "code",
   "execution_count": null,
   "metadata": {
    "colab": {
     "base_uri": "https://localhost:8080/"
    },
    "id": "g4rBYSCk7g0I",
    "outputId": "a33c510c-e6a4-4c9f-8423-f42137daf54b"
   },
   "outputs": [
    {
     "name": "stdout",
     "output_type": "stream",
     "text": [
      "10\n",
      "20\n",
      "20\n",
      "30\n",
      "10\n",
      "50\n",
      "90\n",
      "End\n",
      "10 - 2 times\n",
      "20 - 2 times\n",
      "30 - 1 times\n",
      "50 - 1 times\n",
      "90 - 1 times\n"
     ]
    }
   ],
   "source": [
    "#1\n",
    "count=0\n",
    "dict1={}\n",
    "while True:\n",
    "  num=input()\n",
    "  if num=='End':\n",
    "    break\n",
    "  else:\n",
    "    if num in dict1:\n",
    "      dict1[num]+=1\n",
    "    else:\n",
    "      dict1[num]=1\n",
    "for x,y in dict1.items():\n",
    "  print(x,'-',y,'times')"
   ]
  },
  {
   "cell_type": "code",
   "execution_count": null,
   "metadata": {
    "colab": {
     "base_uri": "https://localhost:8080/"
    },
    "id": "QCUOvLatisCk",
    "outputId": "f5838c1a-b41f-4ee0-e245-bd2086038cb4"
   },
   "outputs": [
    {
     "name": "stdout",
     "output_type": "stream",
     "text": [
      "Enter the list number 4\n",
      "Enter a string separated space 1 2 3\n",
      "Enter a string separated space 4 5 6\n",
      "Enter a string separated space 10 11 12\n",
      "Enter a string separated space 7 8 9\n",
      "33\n",
      "[10, 11, 12]\n"
     ]
    }
   ],
   "source": [
    "#2\n",
    "n=int(input('Enter the list number '))\n",
    "list1=[]\n",
    "list2=[]\n",
    "for i in range(n):\n",
    "  val=input('Enter a string separated by space ')\n",
    "  y=val.split(' ')\n",
    "  y=[int(i) for i in y]\n",
    "  list1.append(y)\n",
    "  sum=0\n",
    "  for j in range(len(y)):\n",
    "    sum+=y[j]\n",
    "  list2.append(sum)\n",
    "  max1=max(list2)\n",
    "  ind=list2.index(max1)\n",
    "  x=list1[ind]\n",
    "print(max1)\n",
    "print(x)"
   ]
  },
  {
   "cell_type": "code",
   "execution_count": null,
   "metadata": {
    "colab": {
     "base_uri": "https://localhost:8080/"
    },
    "id": "lw7mBZxxlK4F",
    "outputId": "b5d3357f-80a0-448f-bc6f-4cd80caf9251"
   },
   "outputs": [
    {
     "name": "stdout",
     "output_type": "stream",
     "text": [
      "Enter a string separated by space 1 4 2 3\n",
      "UB JUMPER\n",
      "Enter a string separated by space 2 1 4 6 10\n",
      "UB JUMPER\n",
      "Enter a string separated by space 1 4 2 -1 6\n",
      "Not UB JUMPER\n",
      "Enter a string separated by space STOP\n"
     ]
    }
   ],
   "source": [
    "#3\n",
    "while True:\n",
    "  val=input('Enter a string separated by space ')\n",
    "  if val=='STOP':\n",
    "    break\n",
    "  else:\n",
    "    x=val.split(' ')\n",
    "    x=[int(i) for i in x]\n",
    "    list1=[]\n",
    "    list2=[]\n",
    "    for j in range(1,len(x)):\n",
    "      list1.append(j)\n",
    "    for k in range(len(x)-1):\n",
    "       diff=abs(x[k]-x[k + 1])\n",
    "       list2.append(diff)\n",
    "       for a in list2:\n",
    "          if a in list1:\n",
    "           list1.remove(a)\n",
    "  if len(list1)==0:\n",
    "      print('UB JUMPER')\n",
    "  else:\n",
    "      print('Not UB JUMPER')"
   ]
  },
  {
   "cell_type": "code",
   "execution_count": null,
   "metadata": {
    "colab": {
     "base_uri": "https://localhost:8080/"
    },
    "id": "3lp_tuhYqsDg",
    "outputId": "03f90913-bea8-4789-a910-cca275ab65bc"
   },
   "outputs": [
    {
     "name": "stdout",
     "output_type": "stream",
     "text": [
      "Enter a string separated by space 6 5\n",
      "Enter a string separated by space 0 1 2 3 4 5\n",
      "0\n"
     ]
    }
   ],
   "source": [
    "#4\n",
    "val1=input('Enter a string separated by space ')\n",
    "x=val1.split(' ')\n",
    "x=[int(i) for i in x]\n",
    "val2=input('Enter a string separated by space ')\n",
    "y=val2.split(' ')\n",
    "y=[int(j) for j in y]\n",
    "count=0\n",
    "for k in y:\n",
    "  n=k+x[1]\n",
    "  if n<=5:\n",
    "    count+=1\n",
    "if count>=3:\n",
    "  print(x[0]//3)\n",
    "else:\n",
    "  print(0)"
   ]
  },
  {
   "cell_type": "markdown",
   "metadata": {
    "id": "hYiwcoTpnzhx"
   },
   "source": [
    "# ***Dictonary & Tuple***"
   ]
  },
  {
   "cell_type": "code",
   "execution_count": null,
   "metadata": {
    "colab": {
     "base_uri": "https://localhost:8080/"
    },
    "id": "t3Hw2IDSQRUY",
    "outputId": "f4737e89-c24d-4e73-806c-7e569ada4323"
   },
   "outputs": [
    {
     "name": "stdout",
     "output_type": "stream",
     "text": [
      "{'a': 400, 'b': 300, 'c': 200, 'd': 700, 'e': 200}\n",
      "values: (200, 300, 400, 700)\n"
     ]
    }
   ],
   "source": [
    "#1\n",
    "dic1={'a':100, 'b':100, 'c':200, 'd':300}\n",
    "dic2={'a':300, 'b':200, 'd':400, 'e':200}\n",
    "new_dic={}\n",
    "for i in dic1:\n",
    "   if i in dic2:\n",
    "     new_dic[i]=dic1[i]+dic2[i]\n",
    "   else:\n",
    "     new_dic[i]=dic1[i] \n",
    "for i in dic2:\n",
    "    if i not in dic1:\n",
    "        new_dic[i] = dic2[i]\n",
    "print(new_dic)\n",
    "list1=[]\n",
    "for x in new_dic.values():\n",
    "  if x in list1:\n",
    "    pass\n",
    "  else:\n",
    "    list1.append(x)\n",
    "    list1.sort()\n",
    "print('values:',tuple(list1))    "
   ]
  },
  {
   "cell_type": "code",
   "execution_count": null,
   "metadata": {
    "colab": {
     "base_uri": "https://localhost:8080/"
    },
    "id": "dL0lMfIaC38g",
    "outputId": "6da9bafa-f552-41b5-bae3-4f2593d60da8"
   },
   "outputs": [
    {
     "name": "stdout",
     "output_type": "stream",
     "text": [
      "10\n",
      "20\n",
      "20\n",
      "30\n",
      "10\n",
      "50\n",
      "90\n",
      "End\n",
      "10 - 2 times\n",
      "20 - 2 times\n",
      "30 - 1 times\n",
      "50 - 1 times\n",
      "90 - 1 times\n"
     ]
    }
   ],
   "source": [
    "1#2\n",
    "count=0\n",
    "dict1={}\n",
    "while True:\n",
    "  num=input()\n",
    "  if num=='End':\n",
    "    break\n",
    "  else:\n",
    "    if num in dict1:\n",
    "      dict1[num]+=1\n",
    "    else:\n",
    "      dict1[num]=1\n",
    "for x,y in dict1.items():\n",
    "  print(x,'-',y,'times')"
   ]
  },
  {
   "cell_type": "code",
   "execution_count": null,
   "metadata": {
    "colab": {
     "base_uri": "https://localhost:8080/"
    },
    "id": "Zg47MqRAFM82",
    "outputId": "4cc7ad7e-3678-4104-f69e-76f455dee61c"
   },
   "outputs": [
    {
     "name": "stdout",
     "output_type": "stream",
     "text": [
      "{'value1': ['key1', 'key3'], 'value2': ['key2']}\n"
     ]
    }
   ],
   "source": [
    "#3\n",
    "dic1={'key1':'value1', 'key2':'value2', 'key3':'value1'}\n",
    "dic2={}\n",
    "list1=[]\n",
    "for x,y in dic1.items():\n",
    "  if y in dic2:\n",
    "    dic2[y].append(x)\n",
    "  else:\n",
    "    dic2[y]=[x]\n",
    "print(dic2)"
   ]
  },
  {
   "cell_type": "code",
   "execution_count": null,
   "metadata": {
    "colab": {
     "base_uri": "https://localhost:8080/"
    },
    "id": "yMOxKQMc8PX4",
    "outputId": "a719df53-8237-45f8-920f-bc42dda79537"
   },
   "outputs": [
    {
     "name": "stdout",
     "output_type": "stream",
     "text": [
      "Hello, World!\n",
      "4433555555666110966677755531111\n"
     ]
    }
   ],
   "source": [
    "#4\n",
    "x=input().upper()\n",
    "n= {1:['.', ',', '?', '!', ':'], 2:['A', 'B', 'C'], 3:['D', 'E', 'F'], 4:['G', 'H', 'I'], 5:['J', 'K', 'L'], 6:['M', 'N', 'O'], 7:['P', 'Q', 'R', 'S'], 8:['T', 'U', 'V'], 9:['W', 'X', 'Y', 'Z'], 0:[' ']}\n",
    "result = \"\"\n",
    "for i in range(len(x)):\n",
    "  for k,v in n.items():\n",
    "      if x[i] in v:\n",
    "        a=(v.index(x[i]))+1 \n",
    "        result+=str(k)*a\n",
    "print(result)\n",
    "          \n"
   ]
  },
  {
   "cell_type": "markdown",
   "metadata": {
    "id": "nOTgvv-xoNa7"
   },
   "source": [
    "# ***Function***"
   ]
  },
  {
   "cell_type": "code",
   "execution_count": null,
   "metadata": {
    "colab": {
     "base_uri": "https://localhost:8080/"
    },
    "id": "FsJ0HOcNoShR",
    "outputId": "2e698c4c-7451-49a4-b564-b3c92dabc726"
   },
   "outputs": [
    {
     "name": "stdout",
     "output_type": "stream",
     "text": [
      "Score is 20.8 . You are Normal\n"
     ]
    }
   ],
   "source": [
    "#1\n",
    "def BMI(height, weight):\n",
    "  x=weight/((height**2)/10000)\n",
    "  if x < 18.5:\n",
    "    print('Score is',\"{0:4.1f}\".format(x),'.','You are Underweight')\n",
    "  elif 18.5<=x<=24.9:\n",
    "    print('Score is',\"{0:4.1f}\".format(x),'.','You are Normal')\n",
    "  elif 25<=x<=30:\n",
    "    print('Score is',\"{0:4.1f}\".format(x),'.','You are Overweight')\n",
    "  else:\n",
    "    print('Score is',\"{0:4.1f}\".format(x),'.','You are Obese')\n",
    "BMI(152,48)"
   ]
  },
  {
   "cell_type": "code",
   "execution_count": null,
   "metadata": {
    "colab": {
     "base_uri": "https://localhost:8080/"
    },
    "id": "bhNbzOIeoiA2",
    "outputId": "48d2de65-d727-44c5-9ce4-1656040a774f"
   },
   "outputs": [
    {
     "name": "stdout",
     "output_type": "stream",
     "text": [
      "45\n"
     ]
    }
   ],
   "source": [
    "#2\n",
    "def calculation(min,max,divisor):\n",
    "  count=0\n",
    "  store=0\n",
    "  for i in range(min,max):\n",
    "    if i%divisor==0:\n",
    "      store+=i\n",
    "      count+=1\n",
    "  return store\n",
    "print(calculation(3,16,3))"
   ]
  },
  {
   "cell_type": "code",
   "execution_count": 10,
   "metadata": {
    "colab": {
     "base_uri": "https://localhost:8080/"
    },
    "id": "JQsjLl5Vosea",
    "outputId": "64e82490-9e48-4874-bb40-2a7e5078f461"
   },
   "outputs": [
    {
     "name": "stdout",
     "output_type": "stream",
     "text": [
      "Beef Burger\n",
      "223.6\n"
     ]
    }
   ],
   "source": [
    "#3\n",
    "def chillox(burger_name,location='Mohakhali'):\n",
    "  dic1={'BBQ Chicken Burger':250,'Beef Burger':170,'Naga Drums':200}\n",
    "  for k,v in dic1.items():\n",
    "    if a in k:\n",
    "      price=v+v*(8/100)\n",
    "  if location==\"Mohakhali\":\n",
    "    total_price=price+40\n",
    "  else:\n",
    "    total_price=price+60\n",
    "  print(total_price)\n",
    "a=input()\n",
    "chillox(a)"
   ]
  },
  {
   "cell_type": "code",
   "execution_count": null,
   "metadata": {
    "colab": {
     "base_uri": "https://localhost:8080/"
    },
    "id": "47V52d1Voth5",
    "outputId": "8155c451-8ab8-4b9c-cc1c-d312d1a5151f"
   },
   "outputs": [
    {
     "name": "stdout",
     "output_type": "stream",
     "text": [
      "Unchanged: bob@sheba.xyz\n"
     ]
    }
   ],
   "source": [
    "#4\n",
    "def replace_domain(email,new,old='sheba.xyz'):\n",
    "  for i in range(len(email)):\n",
    "    if email[i]=='@':\n",
    "      x=email[0:i+1]\n",
    "  if new in email:\n",
    "    print('Unchanged:',email)\n",
    "  else:\n",
    "    print('Changed:',x+new)\n",
    "  #print(x)\n",
    "replace_domain('bob@sheba.xyz', 'sheba.xyz') "
   ]
  },
  {
   "cell_type": "code",
   "execution_count": null,
   "metadata": {
    "colab": {
     "base_uri": "https://localhost:8080/"
    },
    "id": "mBuexhu0o0tA",
    "outputId": "66da3874-a662-4ac7-f6ff-8c6c3de5aa44"
   },
   "outputs": [
    {
     "name": "stdout",
     "output_type": "stream",
     "text": [
      "Not a Palindrome\n"
     ]
    }
   ],
   "source": [
    "#5\n",
    "def show_palindrome(a):\n",
    " c=''\n",
    " for i in range(len(a)):\n",
    "  b=a[i]\n",
    "  c+=str(b)\n",
    " d=c[-1::-1]\n",
    " if d==a:\n",
    "   print('Palindrome')\n",
    " else:\n",
    "   print('Not a Palindrome')\n",
    "show_palindrome('hello')  "
   ]
  },
  {
   "cell_type": "code",
   "execution_count": null,
   "metadata": {
    "colab": {
     "base_uri": "https://localhost:8080/"
    },
    "id": "nxqnrnLLo061",
    "outputId": "6cd4f606-8bb9-498c-b58a-571e4c43ddc8"
   },
   "outputs": [
    {
     "name": "stdout",
     "output_type": "stream",
     "text": [
      "My favourite animal is a dog. A dog has sharp teeth so that it can eat flesh very easily. Do you know my pet dog’s name? I love my pet very much.\n"
     ]
    }
   ],
   "source": [
    "#6\n",
    "def capitalization(sentences):\n",
    "  x=sentences[0].upper()+sentences[1:len(sentences)]\n",
    "  count=x.count('. ')\n",
    "  start=0\n",
    "  end=-1\n",
    "  for i in range(count):\n",
    "    position=x.index('. ',start,end)\n",
    "    start=position+1\n",
    "    x=x[0:position+2]+x[position+2].upper()+x[position+3:]\n",
    "  count=x.count('! ')\n",
    "  start=0\n",
    "  end=-1\n",
    "  for i in range(count):\n",
    "    position=x.index('! ',start,end)\n",
    "    start=position+1\n",
    "    x=x[0:position+2]+x[position+2].upper()+x[position+3:]\n",
    "  count=x.count('? ')\n",
    "  start=0\n",
    "  end=-1\n",
    "  for i in range(count):\n",
    "    position=x.index('? ',start,end)\n",
    "    start=position+1\n",
    "    x=x[0:position+2]+x[position+2].upper()+x[position+3:]\n",
    "  print(x)\n",
    "capitalization('my favourite animal is a dog. a dog has sharp teeth so that it can eat flesh very easily. do you know my pet dog’s name? i love my pet very much.')"
   ]
  }
 ],
 "metadata": {
  "colab": {
   "collapsed_sections": [],
   "provenance": []
  },
  "kernelspec": {
   "display_name": "Python 3 (ipykernel)",
   "language": "python",
   "name": "python3"
  },
  "language_info": {
   "codemirror_mode": {
    "name": "ipython",
    "version": 3
   },
   "file_extension": ".py",
   "mimetype": "text/x-python",
   "name": "python",
   "nbconvert_exporter": "python",
   "pygments_lexer": "ipython3",
   "version": "3.9.7"
  }
 },
 "nbformat": 4,
 "nbformat_minor": 1
}
