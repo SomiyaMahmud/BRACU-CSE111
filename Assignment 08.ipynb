{
 "cells": [
  {
   "cell_type": "code",
   "execution_count": null,
   "metadata": {
    "colab": {
     "base_uri": "https://localhost:8080/"
    },
    "id": "dDeOD7QsdnCh",
    "outputId": "a87ae8e0-5141-41b5-a7a3-7233c23262f3"
   },
   "outputs": [
    {
     "name": "stdout",
     "output_type": "stream",
     "text": [
      "RealPart: 1.0\n",
      "ImaginaryPart: 1.0\n",
      "---------\n",
      "RealPart: 5.0\n",
      "ImaginaryPart: 7.0\n"
     ]
    }
   ],
   "source": [
    "#1\n",
    "class RealNumber:\n",
    "\n",
    " def __init__(self, r=0):\n",
    "  self.__realValue = r\n",
    " def getRealValue(self):\n",
    "  return self.__realValue\n",
    " def setRealValue(self, r):\n",
    "  self.__realValue = r\n",
    " def __str__(self):\n",
    "  return 'RealPart: '+str(self.getRealValue())\n",
    "\n",
    "class ComplexNumber(RealNumber):\n",
    "  def __init__(self,r=1,i=1):\n",
    "      super().setRealValue(float(r))\n",
    "      self.img=float(i)\n",
    "  \n",
    "  def __str__(self):\n",
    "    return 'RealPart: '+str(self.getRealValue())+'\\nImaginaryPart: '+str(self.img)\n",
    "\n",
    "\n",
    "\n",
    "cn1 = ComplexNumber()\n",
    "print(cn1)\n",
    "print('---------')\n",
    "cn2 = ComplexNumber(5,7)\n",
    "print(cn2)"
   ]
  },
  {
   "cell_type": "code",
   "execution_count": null,
   "metadata": {
    "colab": {
     "base_uri": "https://localhost:8080/"
    },
    "id": "DoFJna4oiHpJ",
    "outputId": "c02dc875-0d7b-4bfc-d81e-e8b1dbda0c01"
   },
   "outputs": [
    {
     "name": "stdout",
     "output_type": "stream",
     "text": [
      "8\n",
      "2+1i\n",
      "3+5i\n",
      "5+6i\n",
      "-1-4i\n"
     ]
    }
   ],
   "source": [
    "#2\n",
    "class RealNumber:\n",
    " def __init__(self, number=0):\n",
    "  self.number = number\n",
    " def __add__(self, anotherRealNumber):\n",
    "  return self.number + anotherRealNumber.number\n",
    " def __sub__(self, anotherRealNumber):\n",
    "  return self.number - anotherRealNumber.number\n",
    " def __str__(self):\n",
    "  return str(self.number)\n",
    "\n",
    "class ComplexNumber(RealNumber):\n",
    "  def __init__(self,real,img):\n",
    "    self.img=img\n",
    "    if isinstance(real, RealNumber):\n",
    "        super().__init__(real.number)\n",
    "    else:\n",
    "        super().__init__(real)\n",
    "  def __add__(self,other):\n",
    "    return ComplexNumber(self.number+other.number,self.img+other.img)\n",
    "  def __sub__(self,other):\n",
    "    return ComplexNumber(self.number-other.number,self.img-other.img)\n",
    "  def __str__(self):\n",
    "      if self.img>0:\n",
    "        return str(self.number)+'+'+str(self.img)+'i'\n",
    "      else:\n",
    "        return str(self.number)+str(self.img)+'i'  \n",
    "r1 = RealNumber(3)\n",
    "r2 = RealNumber(5)\n",
    "print(r1+r2)\n",
    "cn1 = ComplexNumber(2, 1)\n",
    "print(cn1)\n",
    "cn2 = ComplexNumber(r1, 5)\n",
    "print(cn2)\n",
    "cn3 = cn1 + cn2\n",
    "print(cn3)\n",
    "cn4 = cn1 - cn2\n",
    "print(cn4)"
   ]
  },
  {
   "cell_type": "code",
   "execution_count": null,
   "metadata": {
    "colab": {
     "base_uri": "https://localhost:8080/"
    },
    "id": "ppZbWTjEiJ-v",
    "outputId": "eafdd746-b67d-4ebb-c9d4-f11ca8036c2e"
   },
   "outputs": [
    {
     "name": "stdout",
     "output_type": "stream",
     "text": [
      "Number of Checking Accounts:  0\n",
      "Account Balance: 0\n",
      "Account Balance: 100.0\n",
      "Account Balance: 200.0\n",
      "Number of Checking Accounts:  3\n"
     ]
    }
   ],
   "source": [
    "#3\n",
    "class Account:\n",
    "   def __init__(self, balance):\n",
    "    self._balance = balance\n",
    "\n",
    "   def getBalance(self):\n",
    "    return self._balance\n",
    "\n",
    "class CheckingAccount(Account):\n",
    "  numberOfAccount=0\n",
    "  def __init__(self,balance=0):\n",
    "   super().__init__(balance)\n",
    "   CheckingAccount.numberOfAccount+=1\n",
    "  def __str__(self):\n",
    "      return 'Account Balance: '+str(self.getBalance())\n",
    "\n",
    "print('Number of Checking Accounts: ', CheckingAccount.numberOfAccount)\n",
    "print(CheckingAccount())\n",
    "print(CheckingAccount(100.00))\n",
    "print(CheckingAccount(200.00))\n",
    "print('Number of Checking Accounts: ', CheckingAccount.numberOfAccount)"
   ]
  },
  {
   "cell_type": "code",
   "execution_count": null,
   "metadata": {
    "colab": {
     "base_uri": "https://localhost:8080/"
    },
    "id": "jZijGA4liQQX",
    "outputId": "b245346a-3882-4e2b-85c8-f3b4b409a882"
   },
   "outputs": [
    {
     "name": "stdout",
     "output_type": "stream",
     "text": [
      "----Printing Detail----\n",
      "Do not eat the Mango .\n",
      "Mangos are bad for you\n",
      "----Printing Detail----\n",
      "Eat the Jackfruit .\n",
      "Jackfruits are good for you\n"
     ]
    }
   ],
   "source": [
    "#4\n",
    "class Fruit:\n",
    "  def __init__(self, formalin=False, name=''):\n",
    "   self.__formalin = formalin\n",
    "   self.name = name\n",
    "\n",
    "  def getName(self):\n",
    "   return self.name\n",
    "\n",
    "  def hasFormalin(self):\n",
    "   return self.__formalin\n",
    "\n",
    "\n",
    "class testFruit:\n",
    "  def test(self, f):\n",
    "   print('----Printing Detail----')\n",
    "   if f.hasFormalin():\n",
    "    print('Do not eat the',f.getName(),'.')\n",
    "    print(f)\n",
    "   else:\n",
    "    print('Eat the',f.getName(),'.')\n",
    "    print(f)\n",
    "\n",
    "class Mango(Fruit):\n",
    "  def __init__(self,formalin=True):\n",
    "      super().__init__(formalin,'Mango')\n",
    "  def __str__(self):\n",
    "     if self.hasFormalin():\n",
    "         return super().getName()+ 's are bad for you'\n",
    "     else:\n",
    "         return super().getName()+ 's are good for you'\n",
    "  \n",
    "class Jackfruit(Fruit):\n",
    "    def __init__(self,formalin=False):\n",
    "      super().__init__(formalin,'Jackfruit')    \n",
    "    def __str__(self):\n",
    "     if self.hasFormalin():\n",
    "         return super().getName()+ 's are bad for you'\n",
    "     else:\n",
    "         return super().getName()+ 's are good for you'\n",
    "m = Mango()\n",
    "j = Jackfruit()\n",
    "t1 = testFruit()\n",
    "t1.test(m)\n",
    "t1.test(j)"
   ]
  },
  {
   "cell_type": "code",
   "execution_count": null,
   "metadata": {
    "colab": {
     "base_uri": "https://localhost:8080/"
    },
    "id": "f9F_GPyXiXoX",
    "outputId": "15420b85-4781-43db-af4b-5f91069ad018"
   },
   "outputs": [
    {
     "name": "stdout",
     "output_type": "stream",
     "text": [
      "Marks: 100 Time:90 Number of Parts:4\n",
      "----------------------------------\n",
      "Maths , English,Physics,HigherMaths\n",
      "Part 1 - Maths\n",
      "Part 2 - English\n",
      "Part 3 - Physics\n",
      "Part 4 - HigherMaths\n",
      "\n",
      "==================================\n",
      "Marks: 100 Time:120 Number of Parts:5\n",
      "----------------------------------\n",
      "Maths , English,Physics,HigherMaths,Drawing\n",
      "Part 1 - Maths\n",
      "Part 2 - English\n",
      "Part 3 - Physics\n",
      "Part 4 - HigherMaths\n",
      "Part 5 - Drawing\n",
      "\n"
     ]
    }
   ],
   "source": [
    "#5\n",
    "class Exam:\n",
    "  def __init__(self,marks):\n",
    "    self.marks = marks\n",
    "    self.time = 60\n",
    "  def examSyllabus(self):\n",
    "    return \"Maths , English\"\n",
    "  def examParts(self):\n",
    "    return \"Part 1 - Maths\\nPart 2 - English\\n\"\n",
    "\n",
    "class ScienceExam(Exam):\n",
    "    def __init__(self,marks,time,*sub):\n",
    "        super().__init__(marks)\n",
    "        self.time=time\n",
    "        self.sub=sub\n",
    "    def examSyllabus(self):\n",
    "        syl=super().examSyllabus()\n",
    "        for i in self.sub:\n",
    "            syl+=','+i\n",
    "        return syl\n",
    "    def examParts(self):\n",
    "        part=super().examParts()\n",
    "        for i in range(0,len(self.sub)):\n",
    "          part+='Part '+str(3+i)+' - '+self.sub[i]+'\\n'\n",
    "        return part\n",
    "    def __str__(self):\n",
    "        return  'Marks: '+str(self.marks)+ ' Time:' +str(self.time)+' Number of Parts:'+str(2 + len(self.sub))\n",
    "\n",
    "engineering = ScienceExam(100,90,\"Physics\",\"HigherMaths\")\n",
    "print(engineering)\n",
    "print('----------------------------------')\n",
    "print(engineering.examSyllabus())\n",
    "print(engineering.examParts())\n",
    "print('==================================')\n",
    "architecture =ScienceExam(100,120,\"Physics\",\"HigherMaths\",\"Drawing\")\n",
    "print(architecture)\n",
    "print('----------------------------------')\n",
    "print(architecture.examSyllabus())\n",
    "print(architecture.examParts())\n"
   ]
  },
  {
   "cell_type": "code",
   "execution_count": null,
   "metadata": {
    "colab": {
     "base_uri": "https://localhost:8080/"
    },
    "id": "b-Iz14cjikNQ",
    "outputId": "6ca2dead-4721-41fc-a304-2ba32e0c38a8"
   },
   "outputs": [
    {
     "name": "stdout",
     "output_type": "stream",
     "text": [
      "Shape name: Sphere, Area Formula: 4 * pi * r * r\n",
      "----------------------------------\n",
      "Radius: 5, Height: No need\n",
      "Area: 314.159\n",
      "==================================\n",
      "Shape name: Cylinder, Area Formula: 2 * pi * r * (r+h)\n",
      "----------------------------------\n",
      "Radius: 5, Height: 10\n",
      "Area: 471.2385\n"
     ]
    }
   ],
   "source": [
    "#6\n",
    "class Shape3D:\n",
    "   pi = 3.14159\n",
    "   def __init__(self, name = 'Default', radius = 0):\n",
    "     self._area = 0\n",
    "     self._name = name\n",
    "     self._height = 'No need'\n",
    "     self._radius = radius\n",
    "   def calc_surface_area(self):\n",
    "     return 2 * Shape3D.pi * self._radius\n",
    "   def __str__(self):\n",
    "     return \"Radius: \"+str(self._radius)\n",
    "class Sphere(Shape3D):\n",
    "    def __init__(self,name,radius):\n",
    "        super().__init__(name,radius)\n",
    "        print(f'Shape name: {self._name}, Area Formula: 4 * pi * r * r')\n",
    "    def calc_surface_area(self):\n",
    "       self._area= super().calc_surface_area()*self._radius*2\n",
    "    def __str__(self):\n",
    "        return super().__str__()+', Height: '+str(self._height)+'\\nArea: '+str(self._area)\n",
    "class Cylinder(Shape3D):\n",
    "    def __init__(self,name,radius,height):\n",
    "        super().__init__(name,radius)\n",
    "        self.height=height\n",
    "        print(f'Shape name: {self._name}, Area Formula: 2 * pi * r * (r+h)')\n",
    "    def calc_surface_area(self):\n",
    "       self._area= super().calc_surface_area()*(self._radius+self.height)\n",
    "    def __str__(self):\n",
    "        return super().__str__()+', Height: '+str(self.height)+'\\nArea: '+str(self._area)\n",
    "\n",
    "sph = Sphere('Sphere', 5)\n",
    "print('----------------------------------')\n",
    "sph.calc_surface_area()\n",
    "print(sph)\n",
    "print('==================================')\n",
    "cyl = Cylinder('Cylinder', 5, 10)\n",
    "print('----------------------------------')\n",
    "cyl.calc_surface_area()\n",
    "print(cyl)"
   ]
  },
  {
   "cell_type": "code",
   "execution_count": null,
   "metadata": {
    "colab": {
     "base_uri": "https://localhost:8080/"
    },
    "id": "oIadaKSZiqPv",
    "outputId": "7f498ff3-0ff2-412c-c7eb-f3db58b28565"
   },
   "outputs": [
    {
     "name": "stdout",
     "output_type": "stream",
     "text": [
      "\n",
      "------------Basic Info:--------------\n",
      "Name: Default, HP: 0, Weakness: None\n",
      "Main type: Unknown\n",
      "Basic move: Quick Attack\n",
      "\n",
      "------------Pokemon 1 Info:-------------\n",
      "Name: Charmander, HP: 39, Weakness: Water\n",
      "Main type: Fire\n",
      "Basic move: Quick Attack\n",
      "\n",
      "------------Pokemon 2 Info:-------------\n",
      "Name: Charizard, HP: 78, Weakness: Water\n",
      "Main type: Fire, Secondary type: Flying\n",
      "Basic move: Quick Attack\n",
      "Other move: Fire Spin,Fire Blaze\n"
     ]
    }
   ],
   "source": [
    "#7\n",
    "class PokemonBasic:\n",
    " def __init__(self, name = 'Default', hp = 0,weakness = 'None', type = 'Unknown'):\n",
    "   self.name = name\n",
    "   self.hit_point = hp\n",
    "   self.weakness = weakness\n",
    "   self.type = type\n",
    " def get_type(self):\n",
    "   return 'Main type: ' + self.type\n",
    " def get_move(self):\n",
    "   return 'Basic move: ' + 'Quick Attack'\n",
    " def __str__(self):\n",
    "   return \"Name: \" + self.name + \", HP: \" +str(self.hit_point) + \", Weakness: \" + self.weakness\n",
    "class  PokemonExtra(PokemonBasic):\n",
    "    def __init__(self,name,hp,weakness,type,sec_type=None,other_move=None):\n",
    "        super().__init__(name,hp,weakness,type)\n",
    "        self.sec_type=sec_type\n",
    "        self.other_move=other_move\n",
    "        \n",
    "    def get_type(self):\n",
    "        if self.sec_type==None:\n",
    "            return super().get_type()\n",
    "        else:\n",
    "             return super().get_type()+', Secondary type: '+ self.sec_type\n",
    "        \n",
    "    def get_move(self):         \n",
    "        if self.other_move==None:           \n",
    "            return super().get_move()\n",
    "        else:                   \n",
    "            return super().get_move() + '\\nOther move: ' + ','.join(self.other_move) \n",
    "\n",
    "print('\\n------------Basic Info:--------------')\n",
    "pk = PokemonBasic()\n",
    "print(pk)\n",
    "print(pk.get_type())\n",
    "print(pk.get_move())\n",
    "print('\\n------------Pokemon 1 Info:-------------')\n",
    "charmander = PokemonExtra('Charmander', 39, 'Water','Fire')\n",
    "print(charmander)\n",
    "print(charmander.get_type())\n",
    "print(charmander.get_move())\n",
    "print('\\n------------Pokemon 2 Info:-------------')\n",
    "charizard = PokemonExtra('Charizard', 78, 'Water','Fire', 'Flying', ('Fire Spin', 'Fire Blaze'))\n",
    "print(charizard)\n",
    "print(charizard.get_type())\n",
    "print(charizard.get_move())"
   ]
  },
  {
   "cell_type": "code",
   "execution_count": null,
   "metadata": {
    "colab": {
     "base_uri": "https://localhost:8080/"
    },
    "id": "Xno_zMFki0P3",
    "outputId": "6a051b76-4f27-4ead-a7d4-81be1110233d"
   },
   "outputs": [
    {
     "name": "stdout",
     "output_type": "stream",
     "text": [
      "=========================\n",
      "Total Player:  11\n",
      "Our name is  Brazil\n",
      "We play Football\n",
      "We love sports\n",
      "=========================\n",
      "Total Player:  11\n",
      "Our name is  Bangladesh\n",
      "We play Cricket\n",
      "We love sports\n"
     ]
    }
   ],
   "source": [
    "#8\n",
    "class Team:\n",
    " def __init__(self, name):\n",
    "   self.name = \"default\"\n",
    "   self.total_player = 5\n",
    " def info(self):\n",
    "   print(\"We love sports\")\n",
    "\n",
    "class  FootBallTeam(Team):\n",
    "    def __init__(self,name):\n",
    "        self.name=name\n",
    "        self.total_player =11\n",
    "    def info(self):\n",
    "      print(\"Our name is \",self.name)\n",
    "      print(\"We play Football\")\n",
    "      super().info()\n",
    "\n",
    "class CricketTeam(Team):\n",
    "    def __init__(self,name):\n",
    "        self.name=name\n",
    "        self.total_player =11\n",
    "    def info(self):\n",
    "      print(\"Our name is \",self.name)\n",
    "      print(\"We play Cricket\")\n",
    "      super().info()\n",
    "\n",
    "class Team_test:\n",
    " def check(self, tm):\n",
    "   print(\"=========================\")\n",
    "   print(\"Total Player: \", tm.total_player)\n",
    "   tm.info()\n",
    "f = FootBallTeam(\"Brazil\")\n",
    "c = CricketTeam(\"Bangladesh\")\n",
    "test = Team_test()\n",
    "test.check(f)\n",
    "test.check(c)\n"
   ]
  },
  {
   "cell_type": "code",
   "execution_count": null,
   "metadata": {
    "colab": {
     "base_uri": "https://localhost:8080/"
    },
    "id": "yTD9TEBni6I5",
    "outputId": "33511843-a37b-4693-828b-07212c99c109"
   },
   "outputs": [
    {
     "name": "stdout",
     "output_type": "stream",
     "text": [
      "Pokemon: Pikachu\n",
      "Type: Electric\n",
      "Weakness: Ground\n",
      "I am a Pokemon.\n",
      "I am Pikachu.\n",
      "========================\n",
      "Pokemon: Charmander\n",
      "Type: Fire\n",
      "Weakness:  Water, Ground and Rock\n",
      "I am a Pokemon.\n",
      "I am Charmander.\n"
     ]
    }
   ],
   "source": [
    "#9\n",
    "class Pokemon:\n",
    " def __init__(self, p):\n",
    "   self.pokemon = p\n",
    "   self.pokemon_type = \"Needs to be set\"\n",
    "   self.pokemon_weakness = \"Needs to be set\"\n",
    " def kind(self):\n",
    "   return self.pokemon_type\n",
    " def weakness(self):\n",
    "   return self.pokemon_weakness\n",
    " def what_am_i(self):\n",
    "   print(\"I am a Pokemon.\")\n",
    "class Pikachu(Pokemon):\n",
    "    def __init__(self):\n",
    "        super().__init__('Pikachu')\n",
    "        self.pokemon_type = 'Electric'\n",
    "        self.pokemon_weakness = 'Ground'\n",
    "    def kind(self):\n",
    "        return self.pokemon_type \n",
    "    def weakness(self):\n",
    "        return self.pokemon_weakness\n",
    "\n",
    "    def what_am_i(self):\n",
    "       super().what_am_i()\n",
    "       print(\"I am Pikachu.\")\n",
    "\n",
    "class Charmander(Pokemon):\n",
    "    def __init__(self):\n",
    "        super().__init__('Charmander')\n",
    "        self.pokemon_type = 'Fire'\n",
    "        self.pokemon_weakness = ' Water, Ground and Rock'\n",
    "    def kind(self):\n",
    "        return self.pokemon_type \n",
    "    def weakness(self):\n",
    "        return self.pokemon_weakness\n",
    "\n",
    "    def what_am_i(self):\n",
    "       super().what_am_i()\n",
    "       print(\"I am Charmander.\")\n",
    "\n",
    "pk1 = Pikachu()\n",
    "print(\"Pokemon:\", pk1.pokemon)\n",
    "print(\"Type:\", pk1.kind())\n",
    "print(\"Weakness:\", pk1.weakness())\n",
    "pk1.what_am_i()\n",
    "print(\"========================\")\n",
    "c1 = Charmander()\n",
    "print(\"Pokemon:\", c1.pokemon)\n",
    "print(\"Type:\", c1.kind())\n",
    "print(\"Weakness:\", c1.weakness())\n",
    "c1.what_am_i()"
   ]
  },
  {
   "cell_type": "code",
   "execution_count": null,
   "metadata": {
    "colab": {
     "base_uri": "https://localhost:8080/"
    },
    "id": "dotQpRYmjAkg",
    "outputId": "97f7196b-87c5-4f62-e05d-824444d3e06b"
   },
   "outputs": [
    {
     "name": "stdout",
     "output_type": "stream",
     "text": [
      "Name: Rahim\n",
      "ID: 16101328\n",
      "Courses Approved to this CSE student in Spring2016 semester :\n",
      "CSE110\n",
      "MAT110\n",
      "ENG101\n",
      "==================\n",
      "Name: Tanzim\n",
      "ID: 18101326\n",
      "Courses Approved to this EEE student in Spring2018 semester :\n",
      "Mat110\n",
      "PHY111\n",
      "ENG101\n",
      "==================\n",
      "Name: Rudana\n",
      "ID: 18101326\n",
      "Courses Approved to this CSE student in Fall2017 semester :\n",
      "CSE111\n",
      "PHY101\n",
      "MAT120\n",
      "==================\n",
      "Name: Zainab\n",
      "ID: 19201623\n",
      "Courses Approved to this EEE student in Summer2019 semester :\n",
      "EEE201\n",
      "PHY112\n",
      "MAT120\n"
     ]
    }
   ],
   "source": [
    "#10\n",
    "class Department:\n",
    " def __init__(self, s):\n",
    "   self.semester = s\n",
    "   self.name = \"Default\"\n",
    "   self.id = -1\n",
    "\n",
    " def student_info(self):\n",
    "   print(\"Name:\", self.name)\n",
    "   print(\"ID:\", self.id)\n",
    "\n",
    " def courses(self, c1, c2, c3):\n",
    "   print(\"No courses Approved yet!\")\n",
    "\n",
    "class CSE(Department):\n",
    "    def __init__(self,name,id,semester):\n",
    "        super().__init__(semester)\n",
    "        self.name =name\n",
    "        self.id = id\n",
    "    def courses(self, c1, c2, c3):\n",
    "        print(\"Courses Approved to this CSE student in \" + self.semester + ' semester :'+'\\n'+c1+'\\n'+c2+'\\n'+c3)\n",
    "\n",
    "class EEE(Department):\n",
    "    def __init__(self,name,id,semester):\n",
    "        super().__init__(semester)\n",
    "        self.name =name\n",
    "        self.id = id\n",
    "    def courses(self, c1, c2, c3):\n",
    "        print(\"Courses Approved to this EEE student in \" + self.semester + ' semester :'+'\\n'+c1+'\\n'+c2+'\\n'+c3)\n",
    "\n",
    "s1 = CSE(\"Rahim\", 16101328,\"Spring2016\")\n",
    "s1.student_info()\n",
    "s1.courses(\"CSE110\", \"MAT110\", \"ENG101\")\n",
    "print(\"==================\")\n",
    "s2 = EEE(\"Tanzim\", 18101326, \"Spring2018\")\n",
    "s2.student_info()\n",
    "s2.courses(\"Mat110\", \"PHY111\", \"ENG101\")\n",
    "print(\"==================\")\n",
    "s3 = CSE(\"Rudana\", 18101326, \"Fall2017\")\n",
    "s3.student_info()\n",
    "s3.courses(\"CSE111\", \"PHY101\", \"MAT120\")\n",
    "print(\"==================\")\n",
    "s4 = EEE(\"Zainab\", 19201623, \"Summer2019\")\n",
    "s4.student_info()\n",
    "s4.courses(\"EEE201\", \"PHY112\", \"MAT120\")"
   ]
  }
 ],
 "metadata": {
  "colab": {
   "collapsed_sections": [],
   "provenance": []
  },
  "kernelspec": {
   "display_name": "Python 3 (ipykernel)",
   "language": "python",
   "name": "python3"
  },
  "language_info": {
   "codemirror_mode": {
    "name": "ipython",
    "version": 3
   },
   "file_extension": ".py",
   "mimetype": "text/x-python",
   "name": "python",
   "nbconvert_exporter": "python",
   "pygments_lexer": "ipython3",
   "version": "3.9.7"
  }
 },
 "nbformat": 4,
 "nbformat_minor": 1
}
